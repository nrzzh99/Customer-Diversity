{
  "nbformat": 4,
  "nbformat_minor": 0,
  "metadata": {
    "colab": {
      "provenance": [],
      "toc_visible": true
    },
    "kernelspec": {
      "name": "python3",
      "display_name": "Python 3"
    },
    "language_info": {
      "name": "python"
    },
    "gpuClass": "standard"
  },
  "cells": [
    {
      "cell_type": "markdown",
      "source": [
        "#I. Perkenalan"
      ],
      "metadata": {
        "id": "5X8FbrU7pZ3P"
      }
    },
    {
      "cell_type": "markdown",
      "source": [
        "Nama : Nurul Izzah\n",
        "\n",
        "Batch : 018\n",
        "\n",
        "Objective : Membuat model clustering untuk melakukan Customer Segmentation dari data kartu kredit dan menaikan insight perusahaan kepada pelanggan kartu kredit\n",
        "\n"
      ],
      "metadata": {
        "id": "K8Wn10MkpeUN"
      }
    },
    {
      "cell_type": "markdown",
      "source": [
        "#II. Query SQL"
      ],
      "metadata": {
        "id": "HJafsF0Ax-xV"
      }
    },
    {
      "cell_type": "markdown",
      "source": [
        "SELECT *\n",
        "FROM `ftds-hacktiv8-project.phase1_ftds_018_rmt.credit-card-information`\n",
        "WHERE MOD(CUST_ID, 2) = 0"
      ],
      "metadata": {
        "id": "_ut8HWwOyB5F"
      }
    },
    {
      "cell_type": "markdown",
      "source": [
        "#III. Import Libraries"
      ],
      "metadata": {
        "id": "oZk0lnsVsD3E"
      }
    },
    {
      "cell_type": "code",
      "execution_count": 1,
      "metadata": {
        "id": "X_VLX4cTpYjF",
        "colab": {
          "base_uri": "https://localhost:8080/"
        },
        "outputId": "6ca68a17-c76a-4407-9c4a-36b2e06f4844"
      },
      "outputs": [
        {
          "output_type": "stream",
          "name": "stdout",
          "text": [
            "Looking in indexes: https://pypi.org/simple, https://us-python.pkg.dev/colab-wheels/public/simple/\n",
            "Collecting feature-engine\n",
            "  Downloading feature_engine-1.5.2-py2.py3-none-any.whl (290 kB)\n",
            "\u001b[2K     \u001b[90m━━━━━━━━━━━━━━━━━━━━━━━━━━━━━━━━━━━━━━━\u001b[0m \u001b[32m290.0/290.0 KB\u001b[0m \u001b[31m9.5 MB/s\u001b[0m eta \u001b[36m0:00:00\u001b[0m\n",
            "\u001b[?25hRequirement already satisfied: pandas>=1.0.3 in /usr/local/lib/python3.9/dist-packages (from feature-engine) (1.4.4)\n",
            "Requirement already satisfied: statsmodels>=0.11.1 in /usr/local/lib/python3.9/dist-packages (from feature-engine) (0.13.5)\n",
            "Requirement already satisfied: numpy>=1.18.2 in /usr/local/lib/python3.9/dist-packages (from feature-engine) (1.22.4)\n",
            "Requirement already satisfied: scikit-learn>=1.0.0 in /usr/local/lib/python3.9/dist-packages (from feature-engine) (1.2.2)\n",
            "Requirement already satisfied: scipy>=1.4.1 in /usr/local/lib/python3.9/dist-packages (from feature-engine) (1.10.1)\n",
            "Requirement already satisfied: pytz>=2020.1 in /usr/local/lib/python3.9/dist-packages (from pandas>=1.0.3->feature-engine) (2022.7.1)\n",
            "Requirement already satisfied: python-dateutil>=2.8.1 in /usr/local/lib/python3.9/dist-packages (from pandas>=1.0.3->feature-engine) (2.8.2)\n",
            "Requirement already satisfied: threadpoolctl>=2.0.0 in /usr/local/lib/python3.9/dist-packages (from scikit-learn>=1.0.0->feature-engine) (3.1.0)\n",
            "Requirement already satisfied: joblib>=1.1.1 in /usr/local/lib/python3.9/dist-packages (from scikit-learn>=1.0.0->feature-engine) (1.1.1)\n",
            "Requirement already satisfied: patsy>=0.5.2 in /usr/local/lib/python3.9/dist-packages (from statsmodels>=0.11.1->feature-engine) (0.5.3)\n",
            "Requirement already satisfied: packaging>=21.3 in /usr/local/lib/python3.9/dist-packages (from statsmodels>=0.11.1->feature-engine) (23.0)\n",
            "Requirement already satisfied: six in /usr/local/lib/python3.9/dist-packages (from patsy>=0.5.2->statsmodels>=0.11.1->feature-engine) (1.15.0)\n",
            "Installing collected packages: feature-engine\n",
            "Successfully installed feature-engine-1.5.2\n"
          ]
        }
      ],
      "source": [
        "#import libraries\n",
        "import pandas as pd\n",
        "import numpy as np\n",
        "import matplotlib.pyplot as plt\n",
        "import seaborn as sns\n",
        "!pip install feature-engine\n",
        "\n",
        "from scipy.stats import normaltest\n",
        "from feature_engine.outliers import Winsorizer\n",
        "from scipy.stats import chi2_contingency\n",
        "from sklearn.decomposition import PCA\n",
        "from sklearn.preprocessing import MinMaxScaler\n",
        "from sklearn.pipeline import make_pipeline\n",
        "from sklearn.cluster import KMeans\n",
        "from sklearn.metrics import silhouette_score, silhouette_samples\n",
        "from statsmodels.stats.outliers_influence import variance_inflation_factor\n",
        "\n",
        "\n",
        "import pickle\n",
        "import json\n",
        "import warnings\n",
        "warnings.filterwarnings(action='ignore')"
      ]
    },
    {
      "cell_type": "code",
      "source": [
        "from google.colab import drive\n",
        "drive.mount('/content/drive')"
      ],
      "metadata": {
        "colab": {
          "base_uri": "https://localhost:8080/"
        },
        "id": "hBQmBuEQmsga",
        "outputId": "35c76342-c5a7-411b-982f-be18cd1a45d4"
      },
      "execution_count": 2,
      "outputs": [
        {
          "output_type": "stream",
          "name": "stdout",
          "text": [
            "Drive already mounted at /content/drive; to attempt to forcibly remount, call drive.mount(\"/content/drive\", force_remount=True).\n"
          ]
        }
      ]
    },
    {
      "cell_type": "markdown",
      "source": [
        "#IV. Data Loading"
      ],
      "metadata": {
        "id": "LK6vOnPqx2Tn"
      }
    },
    {
      "cell_type": "code",
      "source": [
        "#mengambil data dari gdrive\n",
        "df = pd.read_csv('/content/drive/MyDrive/dataset/h8dsft_P1G4_Nurul_Izzah.csv')"
      ],
      "metadata": {
        "id": "tSmk0X9zsbfJ"
      },
      "execution_count": 3,
      "outputs": []
    },
    {
      "cell_type": "code",
      "source": [
        "#menduplikat data agar tidak kehilangan data asli\n",
        "df_copy = df.copy()"
      ],
      "metadata": {
        "id": "0fA6FQX87dw0"
      },
      "execution_count": 4,
      "outputs": []
    },
    {
      "cell_type": "code",
      "source": [
        "#show data\n",
        "df"
      ],
      "metadata": {
        "colab": {
          "base_uri": "https://localhost:8080/",
          "height": 487
        },
        "id": "cbba8Aeis3CH",
        "outputId": "362c9e34-184b-4272-819e-afc70f7f7a51"
      },
      "execution_count": 5,
      "outputs": [
        {
          "output_type": "execute_result",
          "data": {
            "text/plain": [
              "      CUST_ID      BALANCE  BALANCE_FREQUENCY  PURCHASES  ONEOFF_PURCHASES  \\\n",
              "0         788    16.581535           0.125000     200.00              0.00   \n",
              "1        1902   943.584041           0.875000     103.00            103.00   \n",
              "2        2322     1.979916           0.125000      80.00             80.00   \n",
              "3        3426   461.455720           1.000000     585.00            585.00   \n",
              "4        3976  1053.594730           1.000000    1450.00           1450.00   \n",
              "...       ...          ...                ...        ...               ...   \n",
              "4470     4630  1079.008102           1.000000       0.00              0.00   \n",
              "4471     8614   809.582978           0.909091       0.00              0.00   \n",
              "4472     4296  3386.490883           1.000000     560.98            427.22   \n",
              "4473     4476  4840.545574           1.000000    1595.93           1595.93   \n",
              "4474     3564  1977.007090           1.000000    1032.04            226.90   \n",
              "\n",
              "      INSTALLMENTS_PURCHASES  CASH_ADVANCE  PURCHASES_FREQUENCY  \\\n",
              "0                     200.00      0.000000             0.125000   \n",
              "1                       0.00      0.000000             0.125000   \n",
              "2                       0.00      0.000000             0.125000   \n",
              "3                       0.00      0.000000             0.125000   \n",
              "4                       0.00      0.000000             0.125000   \n",
              "...                      ...           ...                  ...   \n",
              "4470                    0.00   1259.571764             0.000000   \n",
              "4471                    0.00   3819.672466             0.000000   \n",
              "4472                  133.76   2008.153534             1.000000   \n",
              "4473                    0.00   4359.325750             0.454545   \n",
              "4474                  805.14   4335.919227             0.909091   \n",
              "\n",
              "      ONEOFF_PURCHASES_FREQUENCY  PURCHASES_INSTALLMENTS_FREQUENCY  \\\n",
              "0                       0.000000                          0.125000   \n",
              "1                       0.125000                          0.000000   \n",
              "2                       0.125000                          0.000000   \n",
              "3                       0.125000                          0.000000   \n",
              "4                       0.125000                          0.000000   \n",
              "...                          ...                               ...   \n",
              "4470                    0.000000                          0.000000   \n",
              "4471                    0.000000                          0.000000   \n",
              "4472                    0.727273                          0.363636   \n",
              "4473                    0.454545                          0.000000   \n",
              "4474                    0.090909                          0.818182   \n",
              "\n",
              "      CASH_ADVANCE_FREQUENCY  CASH_ADVANCE_TRX  PURCHASES_TRX  CREDIT_LIMIT  \\\n",
              "0                   0.000000                 0              2        1200.0   \n",
              "1                   0.000000                 0              1        1000.0   \n",
              "2                   0.000000                 0              1        1500.0   \n",
              "3                   0.000000                 0              1        1000.0   \n",
              "4                   0.000000                 0              1        1500.0   \n",
              "...                      ...               ...            ...           ...   \n",
              "4470                0.545455                 9              0        1200.0   \n",
              "4471                0.545455                 7              0        4150.0   \n",
              "4472                0.545455                 9             20       10100.0   \n",
              "4473                0.545455                17             25        6000.0   \n",
              "4474                0.545455                21             17        4000.0   \n",
              "\n",
              "         PAYMENTS  MINIMUM_PAYMENTS  PRC_FULL_PAYMENT  TENURE  \n",
              "0        0.000000               NaN          0.000000       8  \n",
              "1      215.325023        410.484825          0.000000       8  \n",
              "2        0.000000               NaN          0.000000       8  \n",
              "3      258.032630        151.696433          0.000000       8  \n",
              "4      397.090516        227.143184          0.000000       8  \n",
              "...           ...               ...               ...     ...  \n",
              "4470  1379.635287        271.364415          0.090909      11  \n",
              "4471  4372.148648        241.645387          0.090909      11  \n",
              "4472  1039.000037        886.050237          0.000000      11  \n",
              "4473   905.844846       2376.919568          0.090909      11  \n",
              "4474  3056.424974        910.707525          0.090909      11  \n",
              "\n",
              "[4475 rows x 18 columns]"
            ],
            "text/html": [
              "\n",
              "  <div id=\"df-75082d76-6439-48f7-abec-6f5f9d73e2c7\">\n",
              "    <div class=\"colab-df-container\">\n",
              "      <div>\n",
              "<style scoped>\n",
              "    .dataframe tbody tr th:only-of-type {\n",
              "        vertical-align: middle;\n",
              "    }\n",
              "\n",
              "    .dataframe tbody tr th {\n",
              "        vertical-align: top;\n",
              "    }\n",
              "\n",
              "    .dataframe thead th {\n",
              "        text-align: right;\n",
              "    }\n",
              "</style>\n",
              "<table border=\"1\" class=\"dataframe\">\n",
              "  <thead>\n",
              "    <tr style=\"text-align: right;\">\n",
              "      <th></th>\n",
              "      <th>CUST_ID</th>\n",
              "      <th>BALANCE</th>\n",
              "      <th>BALANCE_FREQUENCY</th>\n",
              "      <th>PURCHASES</th>\n",
              "      <th>ONEOFF_PURCHASES</th>\n",
              "      <th>INSTALLMENTS_PURCHASES</th>\n",
              "      <th>CASH_ADVANCE</th>\n",
              "      <th>PURCHASES_FREQUENCY</th>\n",
              "      <th>ONEOFF_PURCHASES_FREQUENCY</th>\n",
              "      <th>PURCHASES_INSTALLMENTS_FREQUENCY</th>\n",
              "      <th>CASH_ADVANCE_FREQUENCY</th>\n",
              "      <th>CASH_ADVANCE_TRX</th>\n",
              "      <th>PURCHASES_TRX</th>\n",
              "      <th>CREDIT_LIMIT</th>\n",
              "      <th>PAYMENTS</th>\n",
              "      <th>MINIMUM_PAYMENTS</th>\n",
              "      <th>PRC_FULL_PAYMENT</th>\n",
              "      <th>TENURE</th>\n",
              "    </tr>\n",
              "  </thead>\n",
              "  <tbody>\n",
              "    <tr>\n",
              "      <th>0</th>\n",
              "      <td>788</td>\n",
              "      <td>16.581535</td>\n",
              "      <td>0.125000</td>\n",
              "      <td>200.00</td>\n",
              "      <td>0.00</td>\n",
              "      <td>200.00</td>\n",
              "      <td>0.000000</td>\n",
              "      <td>0.125000</td>\n",
              "      <td>0.000000</td>\n",
              "      <td>0.125000</td>\n",
              "      <td>0.000000</td>\n",
              "      <td>0</td>\n",
              "      <td>2</td>\n",
              "      <td>1200.0</td>\n",
              "      <td>0.000000</td>\n",
              "      <td>NaN</td>\n",
              "      <td>0.000000</td>\n",
              "      <td>8</td>\n",
              "    </tr>\n",
              "    <tr>\n",
              "      <th>1</th>\n",
              "      <td>1902</td>\n",
              "      <td>943.584041</td>\n",
              "      <td>0.875000</td>\n",
              "      <td>103.00</td>\n",
              "      <td>103.00</td>\n",
              "      <td>0.00</td>\n",
              "      <td>0.000000</td>\n",
              "      <td>0.125000</td>\n",
              "      <td>0.125000</td>\n",
              "      <td>0.000000</td>\n",
              "      <td>0.000000</td>\n",
              "      <td>0</td>\n",
              "      <td>1</td>\n",
              "      <td>1000.0</td>\n",
              "      <td>215.325023</td>\n",
              "      <td>410.484825</td>\n",
              "      <td>0.000000</td>\n",
              "      <td>8</td>\n",
              "    </tr>\n",
              "    <tr>\n",
              "      <th>2</th>\n",
              "      <td>2322</td>\n",
              "      <td>1.979916</td>\n",
              "      <td>0.125000</td>\n",
              "      <td>80.00</td>\n",
              "      <td>80.00</td>\n",
              "      <td>0.00</td>\n",
              "      <td>0.000000</td>\n",
              "      <td>0.125000</td>\n",
              "      <td>0.125000</td>\n",
              "      <td>0.000000</td>\n",
              "      <td>0.000000</td>\n",
              "      <td>0</td>\n",
              "      <td>1</td>\n",
              "      <td>1500.0</td>\n",
              "      <td>0.000000</td>\n",
              "      <td>NaN</td>\n",
              "      <td>0.000000</td>\n",
              "      <td>8</td>\n",
              "    </tr>\n",
              "    <tr>\n",
              "      <th>3</th>\n",
              "      <td>3426</td>\n",
              "      <td>461.455720</td>\n",
              "      <td>1.000000</td>\n",
              "      <td>585.00</td>\n",
              "      <td>585.00</td>\n",
              "      <td>0.00</td>\n",
              "      <td>0.000000</td>\n",
              "      <td>0.125000</td>\n",
              "      <td>0.125000</td>\n",
              "      <td>0.000000</td>\n",
              "      <td>0.000000</td>\n",
              "      <td>0</td>\n",
              "      <td>1</td>\n",
              "      <td>1000.0</td>\n",
              "      <td>258.032630</td>\n",
              "      <td>151.696433</td>\n",
              "      <td>0.000000</td>\n",
              "      <td>8</td>\n",
              "    </tr>\n",
              "    <tr>\n",
              "      <th>4</th>\n",
              "      <td>3976</td>\n",
              "      <td>1053.594730</td>\n",
              "      <td>1.000000</td>\n",
              "      <td>1450.00</td>\n",
              "      <td>1450.00</td>\n",
              "      <td>0.00</td>\n",
              "      <td>0.000000</td>\n",
              "      <td>0.125000</td>\n",
              "      <td>0.125000</td>\n",
              "      <td>0.000000</td>\n",
              "      <td>0.000000</td>\n",
              "      <td>0</td>\n",
              "      <td>1</td>\n",
              "      <td>1500.0</td>\n",
              "      <td>397.090516</td>\n",
              "      <td>227.143184</td>\n",
              "      <td>0.000000</td>\n",
              "      <td>8</td>\n",
              "    </tr>\n",
              "    <tr>\n",
              "      <th>...</th>\n",
              "      <td>...</td>\n",
              "      <td>...</td>\n",
              "      <td>...</td>\n",
              "      <td>...</td>\n",
              "      <td>...</td>\n",
              "      <td>...</td>\n",
              "      <td>...</td>\n",
              "      <td>...</td>\n",
              "      <td>...</td>\n",
              "      <td>...</td>\n",
              "      <td>...</td>\n",
              "      <td>...</td>\n",
              "      <td>...</td>\n",
              "      <td>...</td>\n",
              "      <td>...</td>\n",
              "      <td>...</td>\n",
              "      <td>...</td>\n",
              "      <td>...</td>\n",
              "    </tr>\n",
              "    <tr>\n",
              "      <th>4470</th>\n",
              "      <td>4630</td>\n",
              "      <td>1079.008102</td>\n",
              "      <td>1.000000</td>\n",
              "      <td>0.00</td>\n",
              "      <td>0.00</td>\n",
              "      <td>0.00</td>\n",
              "      <td>1259.571764</td>\n",
              "      <td>0.000000</td>\n",
              "      <td>0.000000</td>\n",
              "      <td>0.000000</td>\n",
              "      <td>0.545455</td>\n",
              "      <td>9</td>\n",
              "      <td>0</td>\n",
              "      <td>1200.0</td>\n",
              "      <td>1379.635287</td>\n",
              "      <td>271.364415</td>\n",
              "      <td>0.090909</td>\n",
              "      <td>11</td>\n",
              "    </tr>\n",
              "    <tr>\n",
              "      <th>4471</th>\n",
              "      <td>8614</td>\n",
              "      <td>809.582978</td>\n",
              "      <td>0.909091</td>\n",
              "      <td>0.00</td>\n",
              "      <td>0.00</td>\n",
              "      <td>0.00</td>\n",
              "      <td>3819.672466</td>\n",
              "      <td>0.000000</td>\n",
              "      <td>0.000000</td>\n",
              "      <td>0.000000</td>\n",
              "      <td>0.545455</td>\n",
              "      <td>7</td>\n",
              "      <td>0</td>\n",
              "      <td>4150.0</td>\n",
              "      <td>4372.148648</td>\n",
              "      <td>241.645387</td>\n",
              "      <td>0.090909</td>\n",
              "      <td>11</td>\n",
              "    </tr>\n",
              "    <tr>\n",
              "      <th>4472</th>\n",
              "      <td>4296</td>\n",
              "      <td>3386.490883</td>\n",
              "      <td>1.000000</td>\n",
              "      <td>560.98</td>\n",
              "      <td>427.22</td>\n",
              "      <td>133.76</td>\n",
              "      <td>2008.153534</td>\n",
              "      <td>1.000000</td>\n",
              "      <td>0.727273</td>\n",
              "      <td>0.363636</td>\n",
              "      <td>0.545455</td>\n",
              "      <td>9</td>\n",
              "      <td>20</td>\n",
              "      <td>10100.0</td>\n",
              "      <td>1039.000037</td>\n",
              "      <td>886.050237</td>\n",
              "      <td>0.000000</td>\n",
              "      <td>11</td>\n",
              "    </tr>\n",
              "    <tr>\n",
              "      <th>4473</th>\n",
              "      <td>4476</td>\n",
              "      <td>4840.545574</td>\n",
              "      <td>1.000000</td>\n",
              "      <td>1595.93</td>\n",
              "      <td>1595.93</td>\n",
              "      <td>0.00</td>\n",
              "      <td>4359.325750</td>\n",
              "      <td>0.454545</td>\n",
              "      <td>0.454545</td>\n",
              "      <td>0.000000</td>\n",
              "      <td>0.545455</td>\n",
              "      <td>17</td>\n",
              "      <td>25</td>\n",
              "      <td>6000.0</td>\n",
              "      <td>905.844846</td>\n",
              "      <td>2376.919568</td>\n",
              "      <td>0.090909</td>\n",
              "      <td>11</td>\n",
              "    </tr>\n",
              "    <tr>\n",
              "      <th>4474</th>\n",
              "      <td>3564</td>\n",
              "      <td>1977.007090</td>\n",
              "      <td>1.000000</td>\n",
              "      <td>1032.04</td>\n",
              "      <td>226.90</td>\n",
              "      <td>805.14</td>\n",
              "      <td>4335.919227</td>\n",
              "      <td>0.909091</td>\n",
              "      <td>0.090909</td>\n",
              "      <td>0.818182</td>\n",
              "      <td>0.545455</td>\n",
              "      <td>21</td>\n",
              "      <td>17</td>\n",
              "      <td>4000.0</td>\n",
              "      <td>3056.424974</td>\n",
              "      <td>910.707525</td>\n",
              "      <td>0.090909</td>\n",
              "      <td>11</td>\n",
              "    </tr>\n",
              "  </tbody>\n",
              "</table>\n",
              "<p>4475 rows × 18 columns</p>\n",
              "</div>\n",
              "      <button class=\"colab-df-convert\" onclick=\"convertToInteractive('df-75082d76-6439-48f7-abec-6f5f9d73e2c7')\"\n",
              "              title=\"Convert this dataframe to an interactive table.\"\n",
              "              style=\"display:none;\">\n",
              "        \n",
              "  <svg xmlns=\"http://www.w3.org/2000/svg\" height=\"24px\"viewBox=\"0 0 24 24\"\n",
              "       width=\"24px\">\n",
              "    <path d=\"M0 0h24v24H0V0z\" fill=\"none\"/>\n",
              "    <path d=\"M18.56 5.44l.94 2.06.94-2.06 2.06-.94-2.06-.94-.94-2.06-.94 2.06-2.06.94zm-11 1L8.5 8.5l.94-2.06 2.06-.94-2.06-.94L8.5 2.5l-.94 2.06-2.06.94zm10 10l.94 2.06.94-2.06 2.06-.94-2.06-.94-.94-2.06-.94 2.06-2.06.94z\"/><path d=\"M17.41 7.96l-1.37-1.37c-.4-.4-.92-.59-1.43-.59-.52 0-1.04.2-1.43.59L10.3 9.45l-7.72 7.72c-.78.78-.78 2.05 0 2.83L4 21.41c.39.39.9.59 1.41.59.51 0 1.02-.2 1.41-.59l7.78-7.78 2.81-2.81c.8-.78.8-2.07 0-2.86zM5.41 20L4 18.59l7.72-7.72 1.47 1.35L5.41 20z\"/>\n",
              "  </svg>\n",
              "      </button>\n",
              "      \n",
              "  <style>\n",
              "    .colab-df-container {\n",
              "      display:flex;\n",
              "      flex-wrap:wrap;\n",
              "      gap: 12px;\n",
              "    }\n",
              "\n",
              "    .colab-df-convert {\n",
              "      background-color: #E8F0FE;\n",
              "      border: none;\n",
              "      border-radius: 50%;\n",
              "      cursor: pointer;\n",
              "      display: none;\n",
              "      fill: #1967D2;\n",
              "      height: 32px;\n",
              "      padding: 0 0 0 0;\n",
              "      width: 32px;\n",
              "    }\n",
              "\n",
              "    .colab-df-convert:hover {\n",
              "      background-color: #E2EBFA;\n",
              "      box-shadow: 0px 1px 2px rgba(60, 64, 67, 0.3), 0px 1px 3px 1px rgba(60, 64, 67, 0.15);\n",
              "      fill: #174EA6;\n",
              "    }\n",
              "\n",
              "    [theme=dark] .colab-df-convert {\n",
              "      background-color: #3B4455;\n",
              "      fill: #D2E3FC;\n",
              "    }\n",
              "\n",
              "    [theme=dark] .colab-df-convert:hover {\n",
              "      background-color: #434B5C;\n",
              "      box-shadow: 0px 1px 3px 1px rgba(0, 0, 0, 0.15);\n",
              "      filter: drop-shadow(0px 1px 2px rgba(0, 0, 0, 0.3));\n",
              "      fill: #FFFFFF;\n",
              "    }\n",
              "  </style>\n",
              "\n",
              "      <script>\n",
              "        const buttonEl =\n",
              "          document.querySelector('#df-75082d76-6439-48f7-abec-6f5f9d73e2c7 button.colab-df-convert');\n",
              "        buttonEl.style.display =\n",
              "          google.colab.kernel.accessAllowed ? 'block' : 'none';\n",
              "\n",
              "        async function convertToInteractive(key) {\n",
              "          const element = document.querySelector('#df-75082d76-6439-48f7-abec-6f5f9d73e2c7');\n",
              "          const dataTable =\n",
              "            await google.colab.kernel.invokeFunction('convertToInteractive',\n",
              "                                                     [key], {});\n",
              "          if (!dataTable) return;\n",
              "\n",
              "          const docLinkHtml = 'Like what you see? Visit the ' +\n",
              "            '<a target=\"_blank\" href=https://colab.research.google.com/notebooks/data_table.ipynb>data table notebook</a>'\n",
              "            + ' to learn more about interactive tables.';\n",
              "          element.innerHTML = '';\n",
              "          dataTable['output_type'] = 'display_data';\n",
              "          await google.colab.output.renderOutput(dataTable, element);\n",
              "          const docLink = document.createElement('div');\n",
              "          docLink.innerHTML = docLinkHtml;\n",
              "          element.appendChild(docLink);\n",
              "        }\n",
              "      </script>\n",
              "    </div>\n",
              "  </div>\n",
              "  "
            ]
          },
          "metadata": {},
          "execution_count": 5
        }
      ]
    },
    {
      "cell_type": "markdown",
      "source": [
        "data terdiri dari 4475 baris dan 18 kolom"
      ],
      "metadata": {
        "id": "IFbTkxBntJO7"
      }
    },
    {
      "cell_type": "code",
      "source": [
        "#melihat 10 data pertama\n",
        "df.head(10)"
      ],
      "metadata": {
        "colab": {
          "base_uri": "https://localhost:8080/",
          "height": 427
        },
        "id": "ZA041Of4tC6l",
        "outputId": "58e28a1d-347e-411f-f0d2-1c10db9b4c86"
      },
      "execution_count": 6,
      "outputs": [
        {
          "output_type": "execute_result",
          "data": {
            "text/plain": [
              "   CUST_ID      BALANCE  BALANCE_FREQUENCY  PURCHASES  ONEOFF_PURCHASES  \\\n",
              "0      788    16.581535           0.125000      200.0               0.0   \n",
              "1     1902   943.584041           0.875000      103.0             103.0   \n",
              "2     2322     1.979916           0.125000       80.0              80.0   \n",
              "3     3426   461.455720           1.000000      585.0             585.0   \n",
              "4     3976  1053.594730           1.000000     1450.0            1450.0   \n",
              "5     4266  2237.238086           1.000000      120.0             120.0   \n",
              "6     4360  2730.843802           1.000000     2900.0            2900.0   \n",
              "7     4680   424.994385           0.375000     1200.0            1200.0   \n",
              "8     5884    18.885677           0.375000       57.0              57.0   \n",
              "9       24     0.004816           0.545455       51.7               0.0   \n",
              "\n",
              "   INSTALLMENTS_PURCHASES  CASH_ADVANCE  PURCHASES_FREQUENCY  \\\n",
              "0                   200.0           0.0                0.125   \n",
              "1                     0.0           0.0                0.125   \n",
              "2                     0.0           0.0                0.125   \n",
              "3                     0.0           0.0                0.125   \n",
              "4                     0.0           0.0                0.125   \n",
              "5                     0.0           0.0                0.125   \n",
              "6                     0.0           0.0                0.125   \n",
              "7                     0.0           0.0                0.125   \n",
              "8                     0.0           0.0                0.125   \n",
              "9                    51.7           0.0                0.250   \n",
              "\n",
              "   ONEOFF_PURCHASES_FREQUENCY  PURCHASES_INSTALLMENTS_FREQUENCY  \\\n",
              "0                       0.000                             0.125   \n",
              "1                       0.125                             0.000   \n",
              "2                       0.125                             0.000   \n",
              "3                       0.125                             0.000   \n",
              "4                       0.125                             0.000   \n",
              "5                       0.125                             0.000   \n",
              "6                       0.125                             0.000   \n",
              "7                       0.125                             0.000   \n",
              "8                       0.125                             0.000   \n",
              "9                       0.000                             0.250   \n",
              "\n",
              "   CASH_ADVANCE_FREQUENCY  CASH_ADVANCE_TRX  PURCHASES_TRX  CREDIT_LIMIT  \\\n",
              "0                     0.0                 0              2        1200.0   \n",
              "1                     0.0                 0              1        1000.0   \n",
              "2                     0.0                 0              1        1500.0   \n",
              "3                     0.0                 0              1        1000.0   \n",
              "4                     0.0                 0              1        1500.0   \n",
              "5                     0.0                 0              1        2500.0   \n",
              "6                     0.0                 0              1        2900.0   \n",
              "7                     0.0                 0              1        1200.0   \n",
              "8                     0.0                 0              1        1500.0   \n",
              "9                     0.0                 0              3        3000.0   \n",
              "\n",
              "     PAYMENTS  MINIMUM_PAYMENTS  PRC_FULL_PAYMENT  TENURE  \n",
              "0    0.000000               NaN               0.0       8  \n",
              "1  215.325023        410.484825               0.0       8  \n",
              "2    0.000000               NaN               0.0       8  \n",
              "3  258.032630        151.696433               0.0       8  \n",
              "4  397.090516        227.143184               0.0       8  \n",
              "5  343.102984        712.986387               0.0       8  \n",
              "6    0.000000               NaN               0.0       8  \n",
              "7   57.266292         56.720210               0.0       8  \n",
              "8    0.000000               NaN               0.0       8  \n",
              "9   33.249088          0.059481               0.0      12  "
            ],
            "text/html": [
              "\n",
              "  <div id=\"df-215400fc-5de3-4dba-b1d2-270cd2ef1e61\">\n",
              "    <div class=\"colab-df-container\">\n",
              "      <div>\n",
              "<style scoped>\n",
              "    .dataframe tbody tr th:only-of-type {\n",
              "        vertical-align: middle;\n",
              "    }\n",
              "\n",
              "    .dataframe tbody tr th {\n",
              "        vertical-align: top;\n",
              "    }\n",
              "\n",
              "    .dataframe thead th {\n",
              "        text-align: right;\n",
              "    }\n",
              "</style>\n",
              "<table border=\"1\" class=\"dataframe\">\n",
              "  <thead>\n",
              "    <tr style=\"text-align: right;\">\n",
              "      <th></th>\n",
              "      <th>CUST_ID</th>\n",
              "      <th>BALANCE</th>\n",
              "      <th>BALANCE_FREQUENCY</th>\n",
              "      <th>PURCHASES</th>\n",
              "      <th>ONEOFF_PURCHASES</th>\n",
              "      <th>INSTALLMENTS_PURCHASES</th>\n",
              "      <th>CASH_ADVANCE</th>\n",
              "      <th>PURCHASES_FREQUENCY</th>\n",
              "      <th>ONEOFF_PURCHASES_FREQUENCY</th>\n",
              "      <th>PURCHASES_INSTALLMENTS_FREQUENCY</th>\n",
              "      <th>CASH_ADVANCE_FREQUENCY</th>\n",
              "      <th>CASH_ADVANCE_TRX</th>\n",
              "      <th>PURCHASES_TRX</th>\n",
              "      <th>CREDIT_LIMIT</th>\n",
              "      <th>PAYMENTS</th>\n",
              "      <th>MINIMUM_PAYMENTS</th>\n",
              "      <th>PRC_FULL_PAYMENT</th>\n",
              "      <th>TENURE</th>\n",
              "    </tr>\n",
              "  </thead>\n",
              "  <tbody>\n",
              "    <tr>\n",
              "      <th>0</th>\n",
              "      <td>788</td>\n",
              "      <td>16.581535</td>\n",
              "      <td>0.125000</td>\n",
              "      <td>200.0</td>\n",
              "      <td>0.0</td>\n",
              "      <td>200.0</td>\n",
              "      <td>0.0</td>\n",
              "      <td>0.125</td>\n",
              "      <td>0.000</td>\n",
              "      <td>0.125</td>\n",
              "      <td>0.0</td>\n",
              "      <td>0</td>\n",
              "      <td>2</td>\n",
              "      <td>1200.0</td>\n",
              "      <td>0.000000</td>\n",
              "      <td>NaN</td>\n",
              "      <td>0.0</td>\n",
              "      <td>8</td>\n",
              "    </tr>\n",
              "    <tr>\n",
              "      <th>1</th>\n",
              "      <td>1902</td>\n",
              "      <td>943.584041</td>\n",
              "      <td>0.875000</td>\n",
              "      <td>103.0</td>\n",
              "      <td>103.0</td>\n",
              "      <td>0.0</td>\n",
              "      <td>0.0</td>\n",
              "      <td>0.125</td>\n",
              "      <td>0.125</td>\n",
              "      <td>0.000</td>\n",
              "      <td>0.0</td>\n",
              "      <td>0</td>\n",
              "      <td>1</td>\n",
              "      <td>1000.0</td>\n",
              "      <td>215.325023</td>\n",
              "      <td>410.484825</td>\n",
              "      <td>0.0</td>\n",
              "      <td>8</td>\n",
              "    </tr>\n",
              "    <tr>\n",
              "      <th>2</th>\n",
              "      <td>2322</td>\n",
              "      <td>1.979916</td>\n",
              "      <td>0.125000</td>\n",
              "      <td>80.0</td>\n",
              "      <td>80.0</td>\n",
              "      <td>0.0</td>\n",
              "      <td>0.0</td>\n",
              "      <td>0.125</td>\n",
              "      <td>0.125</td>\n",
              "      <td>0.000</td>\n",
              "      <td>0.0</td>\n",
              "      <td>0</td>\n",
              "      <td>1</td>\n",
              "      <td>1500.0</td>\n",
              "      <td>0.000000</td>\n",
              "      <td>NaN</td>\n",
              "      <td>0.0</td>\n",
              "      <td>8</td>\n",
              "    </tr>\n",
              "    <tr>\n",
              "      <th>3</th>\n",
              "      <td>3426</td>\n",
              "      <td>461.455720</td>\n",
              "      <td>1.000000</td>\n",
              "      <td>585.0</td>\n",
              "      <td>585.0</td>\n",
              "      <td>0.0</td>\n",
              "      <td>0.0</td>\n",
              "      <td>0.125</td>\n",
              "      <td>0.125</td>\n",
              "      <td>0.000</td>\n",
              "      <td>0.0</td>\n",
              "      <td>0</td>\n",
              "      <td>1</td>\n",
              "      <td>1000.0</td>\n",
              "      <td>258.032630</td>\n",
              "      <td>151.696433</td>\n",
              "      <td>0.0</td>\n",
              "      <td>8</td>\n",
              "    </tr>\n",
              "    <tr>\n",
              "      <th>4</th>\n",
              "      <td>3976</td>\n",
              "      <td>1053.594730</td>\n",
              "      <td>1.000000</td>\n",
              "      <td>1450.0</td>\n",
              "      <td>1450.0</td>\n",
              "      <td>0.0</td>\n",
              "      <td>0.0</td>\n",
              "      <td>0.125</td>\n",
              "      <td>0.125</td>\n",
              "      <td>0.000</td>\n",
              "      <td>0.0</td>\n",
              "      <td>0</td>\n",
              "      <td>1</td>\n",
              "      <td>1500.0</td>\n",
              "      <td>397.090516</td>\n",
              "      <td>227.143184</td>\n",
              "      <td>0.0</td>\n",
              "      <td>8</td>\n",
              "    </tr>\n",
              "    <tr>\n",
              "      <th>5</th>\n",
              "      <td>4266</td>\n",
              "      <td>2237.238086</td>\n",
              "      <td>1.000000</td>\n",
              "      <td>120.0</td>\n",
              "      <td>120.0</td>\n",
              "      <td>0.0</td>\n",
              "      <td>0.0</td>\n",
              "      <td>0.125</td>\n",
              "      <td>0.125</td>\n",
              "      <td>0.000</td>\n",
              "      <td>0.0</td>\n",
              "      <td>0</td>\n",
              "      <td>1</td>\n",
              "      <td>2500.0</td>\n",
              "      <td>343.102984</td>\n",
              "      <td>712.986387</td>\n",
              "      <td>0.0</td>\n",
              "      <td>8</td>\n",
              "    </tr>\n",
              "    <tr>\n",
              "      <th>6</th>\n",
              "      <td>4360</td>\n",
              "      <td>2730.843802</td>\n",
              "      <td>1.000000</td>\n",
              "      <td>2900.0</td>\n",
              "      <td>2900.0</td>\n",
              "      <td>0.0</td>\n",
              "      <td>0.0</td>\n",
              "      <td>0.125</td>\n",
              "      <td>0.125</td>\n",
              "      <td>0.000</td>\n",
              "      <td>0.0</td>\n",
              "      <td>0</td>\n",
              "      <td>1</td>\n",
              "      <td>2900.0</td>\n",
              "      <td>0.000000</td>\n",
              "      <td>NaN</td>\n",
              "      <td>0.0</td>\n",
              "      <td>8</td>\n",
              "    </tr>\n",
              "    <tr>\n",
              "      <th>7</th>\n",
              "      <td>4680</td>\n",
              "      <td>424.994385</td>\n",
              "      <td>0.375000</td>\n",
              "      <td>1200.0</td>\n",
              "      <td>1200.0</td>\n",
              "      <td>0.0</td>\n",
              "      <td>0.0</td>\n",
              "      <td>0.125</td>\n",
              "      <td>0.125</td>\n",
              "      <td>0.000</td>\n",
              "      <td>0.0</td>\n",
              "      <td>0</td>\n",
              "      <td>1</td>\n",
              "      <td>1200.0</td>\n",
              "      <td>57.266292</td>\n",
              "      <td>56.720210</td>\n",
              "      <td>0.0</td>\n",
              "      <td>8</td>\n",
              "    </tr>\n",
              "    <tr>\n",
              "      <th>8</th>\n",
              "      <td>5884</td>\n",
              "      <td>18.885677</td>\n",
              "      <td>0.375000</td>\n",
              "      <td>57.0</td>\n",
              "      <td>57.0</td>\n",
              "      <td>0.0</td>\n",
              "      <td>0.0</td>\n",
              "      <td>0.125</td>\n",
              "      <td>0.125</td>\n",
              "      <td>0.000</td>\n",
              "      <td>0.0</td>\n",
              "      <td>0</td>\n",
              "      <td>1</td>\n",
              "      <td>1500.0</td>\n",
              "      <td>0.000000</td>\n",
              "      <td>NaN</td>\n",
              "      <td>0.0</td>\n",
              "      <td>8</td>\n",
              "    </tr>\n",
              "    <tr>\n",
              "      <th>9</th>\n",
              "      <td>24</td>\n",
              "      <td>0.004816</td>\n",
              "      <td>0.545455</td>\n",
              "      <td>51.7</td>\n",
              "      <td>0.0</td>\n",
              "      <td>51.7</td>\n",
              "      <td>0.0</td>\n",
              "      <td>0.250</td>\n",
              "      <td>0.000</td>\n",
              "      <td>0.250</td>\n",
              "      <td>0.0</td>\n",
              "      <td>0</td>\n",
              "      <td>3</td>\n",
              "      <td>3000.0</td>\n",
              "      <td>33.249088</td>\n",
              "      <td>0.059481</td>\n",
              "      <td>0.0</td>\n",
              "      <td>12</td>\n",
              "    </tr>\n",
              "  </tbody>\n",
              "</table>\n",
              "</div>\n",
              "      <button class=\"colab-df-convert\" onclick=\"convertToInteractive('df-215400fc-5de3-4dba-b1d2-270cd2ef1e61')\"\n",
              "              title=\"Convert this dataframe to an interactive table.\"\n",
              "              style=\"display:none;\">\n",
              "        \n",
              "  <svg xmlns=\"http://www.w3.org/2000/svg\" height=\"24px\"viewBox=\"0 0 24 24\"\n",
              "       width=\"24px\">\n",
              "    <path d=\"M0 0h24v24H0V0z\" fill=\"none\"/>\n",
              "    <path d=\"M18.56 5.44l.94 2.06.94-2.06 2.06-.94-2.06-.94-.94-2.06-.94 2.06-2.06.94zm-11 1L8.5 8.5l.94-2.06 2.06-.94-2.06-.94L8.5 2.5l-.94 2.06-2.06.94zm10 10l.94 2.06.94-2.06 2.06-.94-2.06-.94-.94-2.06-.94 2.06-2.06.94z\"/><path d=\"M17.41 7.96l-1.37-1.37c-.4-.4-.92-.59-1.43-.59-.52 0-1.04.2-1.43.59L10.3 9.45l-7.72 7.72c-.78.78-.78 2.05 0 2.83L4 21.41c.39.39.9.59 1.41.59.51 0 1.02-.2 1.41-.59l7.78-7.78 2.81-2.81c.8-.78.8-2.07 0-2.86zM5.41 20L4 18.59l7.72-7.72 1.47 1.35L5.41 20z\"/>\n",
              "  </svg>\n",
              "      </button>\n",
              "      \n",
              "  <style>\n",
              "    .colab-df-container {\n",
              "      display:flex;\n",
              "      flex-wrap:wrap;\n",
              "      gap: 12px;\n",
              "    }\n",
              "\n",
              "    .colab-df-convert {\n",
              "      background-color: #E8F0FE;\n",
              "      border: none;\n",
              "      border-radius: 50%;\n",
              "      cursor: pointer;\n",
              "      display: none;\n",
              "      fill: #1967D2;\n",
              "      height: 32px;\n",
              "      padding: 0 0 0 0;\n",
              "      width: 32px;\n",
              "    }\n",
              "\n",
              "    .colab-df-convert:hover {\n",
              "      background-color: #E2EBFA;\n",
              "      box-shadow: 0px 1px 2px rgba(60, 64, 67, 0.3), 0px 1px 3px 1px rgba(60, 64, 67, 0.15);\n",
              "      fill: #174EA6;\n",
              "    }\n",
              "\n",
              "    [theme=dark] .colab-df-convert {\n",
              "      background-color: #3B4455;\n",
              "      fill: #D2E3FC;\n",
              "    }\n",
              "\n",
              "    [theme=dark] .colab-df-convert:hover {\n",
              "      background-color: #434B5C;\n",
              "      box-shadow: 0px 1px 3px 1px rgba(0, 0, 0, 0.15);\n",
              "      filter: drop-shadow(0px 1px 2px rgba(0, 0, 0, 0.3));\n",
              "      fill: #FFFFFF;\n",
              "    }\n",
              "  </style>\n",
              "\n",
              "      <script>\n",
              "        const buttonEl =\n",
              "          document.querySelector('#df-215400fc-5de3-4dba-b1d2-270cd2ef1e61 button.colab-df-convert');\n",
              "        buttonEl.style.display =\n",
              "          google.colab.kernel.accessAllowed ? 'block' : 'none';\n",
              "\n",
              "        async function convertToInteractive(key) {\n",
              "          const element = document.querySelector('#df-215400fc-5de3-4dba-b1d2-270cd2ef1e61');\n",
              "          const dataTable =\n",
              "            await google.colab.kernel.invokeFunction('convertToInteractive',\n",
              "                                                     [key], {});\n",
              "          if (!dataTable) return;\n",
              "\n",
              "          const docLinkHtml = 'Like what you see? Visit the ' +\n",
              "            '<a target=\"_blank\" href=https://colab.research.google.com/notebooks/data_table.ipynb>data table notebook</a>'\n",
              "            + ' to learn more about interactive tables.';\n",
              "          element.innerHTML = '';\n",
              "          dataTable['output_type'] = 'display_data';\n",
              "          await google.colab.output.renderOutput(dataTable, element);\n",
              "          const docLink = document.createElement('div');\n",
              "          docLink.innerHTML = docLinkHtml;\n",
              "          element.appendChild(docLink);\n",
              "        }\n",
              "      </script>\n",
              "    </div>\n",
              "  </div>\n",
              "  "
            ]
          },
          "metadata": {},
          "execution_count": 6
        }
      ]
    },
    {
      "cell_type": "code",
      "source": [
        "#melihat 10 data terakhir\n",
        "df.tail(10)"
      ],
      "metadata": {
        "colab": {
          "base_uri": "https://localhost:8080/",
          "height": 427
        },
        "id": "dGwZ0gtHtaEh",
        "outputId": "1ca88967-60d2-4846-89cf-c3bdd652584c"
      },
      "execution_count": 7,
      "outputs": [
        {
          "output_type": "execute_result",
          "data": {
            "text/plain": [
              "      CUST_ID      BALANCE  BALANCE_FREQUENCY  PURCHASES  ONEOFF_PURCHASES  \\\n",
              "4465     1588   538.768762           0.909091     226.95            129.58   \n",
              "4466     6900  7468.012010           1.000000    1569.41            796.07   \n",
              "4467     2528   427.642111           0.888889       0.00              0.00   \n",
              "4468     1226   706.327578           0.888889     169.54            169.54   \n",
              "4469     2152  1420.727073           1.000000       0.00              0.00   \n",
              "4470     4630  1079.008102           1.000000       0.00              0.00   \n",
              "4471     8614   809.582978           0.909091       0.00              0.00   \n",
              "4472     4296  3386.490883           1.000000     560.98            427.22   \n",
              "4473     4476  4840.545574           1.000000    1595.93           1595.93   \n",
              "4474     3564  1977.007090           1.000000    1032.04            226.90   \n",
              "\n",
              "      INSTALLMENTS_PURCHASES  CASH_ADVANCE  PURCHASES_FREQUENCY  \\\n",
              "4465                   97.37    452.009130             0.545455   \n",
              "4466                  773.34   4500.288676             0.545455   \n",
              "4467                    0.00   2563.705644             0.000000   \n",
              "4468                    0.00   1406.735573             0.333333   \n",
              "4469                    0.00    311.804499             0.000000   \n",
              "4470                    0.00   1259.571764             0.000000   \n",
              "4471                    0.00   3819.672466             0.000000   \n",
              "4472                  133.76   2008.153534             1.000000   \n",
              "4473                    0.00   4359.325750             0.454545   \n",
              "4474                  805.14   4335.919227             0.909091   \n",
              "\n",
              "      ONEOFF_PURCHASES_FREQUENCY  PURCHASES_INSTALLMENTS_FREQUENCY  \\\n",
              "4465                    0.090909                          0.454545   \n",
              "4466                    0.454545                          0.363636   \n",
              "4467                    0.000000                          0.000000   \n",
              "4468                    0.333333                          0.000000   \n",
              "4469                    0.000000                          0.000000   \n",
              "4470                    0.000000                          0.000000   \n",
              "4471                    0.000000                          0.000000   \n",
              "4472                    0.727273                          0.363636   \n",
              "4473                    0.454545                          0.000000   \n",
              "4474                    0.090909                          0.818182   \n",
              "\n",
              "      CASH_ADVANCE_FREQUENCY  CASH_ADVANCE_TRX  PURCHASES_TRX  CREDIT_LIMIT  \\\n",
              "4465                0.272727                 8              9        1200.0   \n",
              "4466                0.272727                 7             10        8700.0   \n",
              "4467                0.888889                62              0        1200.0   \n",
              "4468                0.888889                14              3        2500.0   \n",
              "4469                0.900000                 9              0        1500.0   \n",
              "4470                0.545455                 9              0        1200.0   \n",
              "4471                0.545455                 7              0        4150.0   \n",
              "4472                0.545455                 9             20       10100.0   \n",
              "4473                0.545455                17             25        6000.0   \n",
              "4474                0.545455                21             17        4000.0   \n",
              "\n",
              "         PAYMENTS  MINIMUM_PAYMENTS  PRC_FULL_PAYMENT  TENURE  \n",
              "4465   946.649324        211.220001          0.000000      11  \n",
              "4466  2162.943350       4628.802111          0.000000      11  \n",
              "4467  2853.967334        146.976542          0.500000       9  \n",
              "4468   302.976780        142.597254          0.000000       9  \n",
              "4469   506.765033        449.179818          0.000000      10  \n",
              "4470  1379.635287        271.364415          0.090909      11  \n",
              "4471  4372.148648        241.645387          0.090909      11  \n",
              "4472  1039.000037        886.050237          0.000000      11  \n",
              "4473   905.844846       2376.919568          0.090909      11  \n",
              "4474  3056.424974        910.707525          0.090909      11  "
            ],
            "text/html": [
              "\n",
              "  <div id=\"df-708b5826-a4a6-42a3-ad3e-d2cfc2a2778a\">\n",
              "    <div class=\"colab-df-container\">\n",
              "      <div>\n",
              "<style scoped>\n",
              "    .dataframe tbody tr th:only-of-type {\n",
              "        vertical-align: middle;\n",
              "    }\n",
              "\n",
              "    .dataframe tbody tr th {\n",
              "        vertical-align: top;\n",
              "    }\n",
              "\n",
              "    .dataframe thead th {\n",
              "        text-align: right;\n",
              "    }\n",
              "</style>\n",
              "<table border=\"1\" class=\"dataframe\">\n",
              "  <thead>\n",
              "    <tr style=\"text-align: right;\">\n",
              "      <th></th>\n",
              "      <th>CUST_ID</th>\n",
              "      <th>BALANCE</th>\n",
              "      <th>BALANCE_FREQUENCY</th>\n",
              "      <th>PURCHASES</th>\n",
              "      <th>ONEOFF_PURCHASES</th>\n",
              "      <th>INSTALLMENTS_PURCHASES</th>\n",
              "      <th>CASH_ADVANCE</th>\n",
              "      <th>PURCHASES_FREQUENCY</th>\n",
              "      <th>ONEOFF_PURCHASES_FREQUENCY</th>\n",
              "      <th>PURCHASES_INSTALLMENTS_FREQUENCY</th>\n",
              "      <th>CASH_ADVANCE_FREQUENCY</th>\n",
              "      <th>CASH_ADVANCE_TRX</th>\n",
              "      <th>PURCHASES_TRX</th>\n",
              "      <th>CREDIT_LIMIT</th>\n",
              "      <th>PAYMENTS</th>\n",
              "      <th>MINIMUM_PAYMENTS</th>\n",
              "      <th>PRC_FULL_PAYMENT</th>\n",
              "      <th>TENURE</th>\n",
              "    </tr>\n",
              "  </thead>\n",
              "  <tbody>\n",
              "    <tr>\n",
              "      <th>4465</th>\n",
              "      <td>1588</td>\n",
              "      <td>538.768762</td>\n",
              "      <td>0.909091</td>\n",
              "      <td>226.95</td>\n",
              "      <td>129.58</td>\n",
              "      <td>97.37</td>\n",
              "      <td>452.009130</td>\n",
              "      <td>0.545455</td>\n",
              "      <td>0.090909</td>\n",
              "      <td>0.454545</td>\n",
              "      <td>0.272727</td>\n",
              "      <td>8</td>\n",
              "      <td>9</td>\n",
              "      <td>1200.0</td>\n",
              "      <td>946.649324</td>\n",
              "      <td>211.220001</td>\n",
              "      <td>0.000000</td>\n",
              "      <td>11</td>\n",
              "    </tr>\n",
              "    <tr>\n",
              "      <th>4466</th>\n",
              "      <td>6900</td>\n",
              "      <td>7468.012010</td>\n",
              "      <td>1.000000</td>\n",
              "      <td>1569.41</td>\n",
              "      <td>796.07</td>\n",
              "      <td>773.34</td>\n",
              "      <td>4500.288676</td>\n",
              "      <td>0.545455</td>\n",
              "      <td>0.454545</td>\n",
              "      <td>0.363636</td>\n",
              "      <td>0.272727</td>\n",
              "      <td>7</td>\n",
              "      <td>10</td>\n",
              "      <td>8700.0</td>\n",
              "      <td>2162.943350</td>\n",
              "      <td>4628.802111</td>\n",
              "      <td>0.000000</td>\n",
              "      <td>11</td>\n",
              "    </tr>\n",
              "    <tr>\n",
              "      <th>4467</th>\n",
              "      <td>2528</td>\n",
              "      <td>427.642111</td>\n",
              "      <td>0.888889</td>\n",
              "      <td>0.00</td>\n",
              "      <td>0.00</td>\n",
              "      <td>0.00</td>\n",
              "      <td>2563.705644</td>\n",
              "      <td>0.000000</td>\n",
              "      <td>0.000000</td>\n",
              "      <td>0.000000</td>\n",
              "      <td>0.888889</td>\n",
              "      <td>62</td>\n",
              "      <td>0</td>\n",
              "      <td>1200.0</td>\n",
              "      <td>2853.967334</td>\n",
              "      <td>146.976542</td>\n",
              "      <td>0.500000</td>\n",
              "      <td>9</td>\n",
              "    </tr>\n",
              "    <tr>\n",
              "      <th>4468</th>\n",
              "      <td>1226</td>\n",
              "      <td>706.327578</td>\n",
              "      <td>0.888889</td>\n",
              "      <td>169.54</td>\n",
              "      <td>169.54</td>\n",
              "      <td>0.00</td>\n",
              "      <td>1406.735573</td>\n",
              "      <td>0.333333</td>\n",
              "      <td>0.333333</td>\n",
              "      <td>0.000000</td>\n",
              "      <td>0.888889</td>\n",
              "      <td>14</td>\n",
              "      <td>3</td>\n",
              "      <td>2500.0</td>\n",
              "      <td>302.976780</td>\n",
              "      <td>142.597254</td>\n",
              "      <td>0.000000</td>\n",
              "      <td>9</td>\n",
              "    </tr>\n",
              "    <tr>\n",
              "      <th>4469</th>\n",
              "      <td>2152</td>\n",
              "      <td>1420.727073</td>\n",
              "      <td>1.000000</td>\n",
              "      <td>0.00</td>\n",
              "      <td>0.00</td>\n",
              "      <td>0.00</td>\n",
              "      <td>311.804499</td>\n",
              "      <td>0.000000</td>\n",
              "      <td>0.000000</td>\n",
              "      <td>0.000000</td>\n",
              "      <td>0.900000</td>\n",
              "      <td>9</td>\n",
              "      <td>0</td>\n",
              "      <td>1500.0</td>\n",
              "      <td>506.765033</td>\n",
              "      <td>449.179818</td>\n",
              "      <td>0.000000</td>\n",
              "      <td>10</td>\n",
              "    </tr>\n",
              "    <tr>\n",
              "      <th>4470</th>\n",
              "      <td>4630</td>\n",
              "      <td>1079.008102</td>\n",
              "      <td>1.000000</td>\n",
              "      <td>0.00</td>\n",
              "      <td>0.00</td>\n",
              "      <td>0.00</td>\n",
              "      <td>1259.571764</td>\n",
              "      <td>0.000000</td>\n",
              "      <td>0.000000</td>\n",
              "      <td>0.000000</td>\n",
              "      <td>0.545455</td>\n",
              "      <td>9</td>\n",
              "      <td>0</td>\n",
              "      <td>1200.0</td>\n",
              "      <td>1379.635287</td>\n",
              "      <td>271.364415</td>\n",
              "      <td>0.090909</td>\n",
              "      <td>11</td>\n",
              "    </tr>\n",
              "    <tr>\n",
              "      <th>4471</th>\n",
              "      <td>8614</td>\n",
              "      <td>809.582978</td>\n",
              "      <td>0.909091</td>\n",
              "      <td>0.00</td>\n",
              "      <td>0.00</td>\n",
              "      <td>0.00</td>\n",
              "      <td>3819.672466</td>\n",
              "      <td>0.000000</td>\n",
              "      <td>0.000000</td>\n",
              "      <td>0.000000</td>\n",
              "      <td>0.545455</td>\n",
              "      <td>7</td>\n",
              "      <td>0</td>\n",
              "      <td>4150.0</td>\n",
              "      <td>4372.148648</td>\n",
              "      <td>241.645387</td>\n",
              "      <td>0.090909</td>\n",
              "      <td>11</td>\n",
              "    </tr>\n",
              "    <tr>\n",
              "      <th>4472</th>\n",
              "      <td>4296</td>\n",
              "      <td>3386.490883</td>\n",
              "      <td>1.000000</td>\n",
              "      <td>560.98</td>\n",
              "      <td>427.22</td>\n",
              "      <td>133.76</td>\n",
              "      <td>2008.153534</td>\n",
              "      <td>1.000000</td>\n",
              "      <td>0.727273</td>\n",
              "      <td>0.363636</td>\n",
              "      <td>0.545455</td>\n",
              "      <td>9</td>\n",
              "      <td>20</td>\n",
              "      <td>10100.0</td>\n",
              "      <td>1039.000037</td>\n",
              "      <td>886.050237</td>\n",
              "      <td>0.000000</td>\n",
              "      <td>11</td>\n",
              "    </tr>\n",
              "    <tr>\n",
              "      <th>4473</th>\n",
              "      <td>4476</td>\n",
              "      <td>4840.545574</td>\n",
              "      <td>1.000000</td>\n",
              "      <td>1595.93</td>\n",
              "      <td>1595.93</td>\n",
              "      <td>0.00</td>\n",
              "      <td>4359.325750</td>\n",
              "      <td>0.454545</td>\n",
              "      <td>0.454545</td>\n",
              "      <td>0.000000</td>\n",
              "      <td>0.545455</td>\n",
              "      <td>17</td>\n",
              "      <td>25</td>\n",
              "      <td>6000.0</td>\n",
              "      <td>905.844846</td>\n",
              "      <td>2376.919568</td>\n",
              "      <td>0.090909</td>\n",
              "      <td>11</td>\n",
              "    </tr>\n",
              "    <tr>\n",
              "      <th>4474</th>\n",
              "      <td>3564</td>\n",
              "      <td>1977.007090</td>\n",
              "      <td>1.000000</td>\n",
              "      <td>1032.04</td>\n",
              "      <td>226.90</td>\n",
              "      <td>805.14</td>\n",
              "      <td>4335.919227</td>\n",
              "      <td>0.909091</td>\n",
              "      <td>0.090909</td>\n",
              "      <td>0.818182</td>\n",
              "      <td>0.545455</td>\n",
              "      <td>21</td>\n",
              "      <td>17</td>\n",
              "      <td>4000.0</td>\n",
              "      <td>3056.424974</td>\n",
              "      <td>910.707525</td>\n",
              "      <td>0.090909</td>\n",
              "      <td>11</td>\n",
              "    </tr>\n",
              "  </tbody>\n",
              "</table>\n",
              "</div>\n",
              "      <button class=\"colab-df-convert\" onclick=\"convertToInteractive('df-708b5826-a4a6-42a3-ad3e-d2cfc2a2778a')\"\n",
              "              title=\"Convert this dataframe to an interactive table.\"\n",
              "              style=\"display:none;\">\n",
              "        \n",
              "  <svg xmlns=\"http://www.w3.org/2000/svg\" height=\"24px\"viewBox=\"0 0 24 24\"\n",
              "       width=\"24px\">\n",
              "    <path d=\"M0 0h24v24H0V0z\" fill=\"none\"/>\n",
              "    <path d=\"M18.56 5.44l.94 2.06.94-2.06 2.06-.94-2.06-.94-.94-2.06-.94 2.06-2.06.94zm-11 1L8.5 8.5l.94-2.06 2.06-.94-2.06-.94L8.5 2.5l-.94 2.06-2.06.94zm10 10l.94 2.06.94-2.06 2.06-.94-2.06-.94-.94-2.06-.94 2.06-2.06.94z\"/><path d=\"M17.41 7.96l-1.37-1.37c-.4-.4-.92-.59-1.43-.59-.52 0-1.04.2-1.43.59L10.3 9.45l-7.72 7.72c-.78.78-.78 2.05 0 2.83L4 21.41c.39.39.9.59 1.41.59.51 0 1.02-.2 1.41-.59l7.78-7.78 2.81-2.81c.8-.78.8-2.07 0-2.86zM5.41 20L4 18.59l7.72-7.72 1.47 1.35L5.41 20z\"/>\n",
              "  </svg>\n",
              "      </button>\n",
              "      \n",
              "  <style>\n",
              "    .colab-df-container {\n",
              "      display:flex;\n",
              "      flex-wrap:wrap;\n",
              "      gap: 12px;\n",
              "    }\n",
              "\n",
              "    .colab-df-convert {\n",
              "      background-color: #E8F0FE;\n",
              "      border: none;\n",
              "      border-radius: 50%;\n",
              "      cursor: pointer;\n",
              "      display: none;\n",
              "      fill: #1967D2;\n",
              "      height: 32px;\n",
              "      padding: 0 0 0 0;\n",
              "      width: 32px;\n",
              "    }\n",
              "\n",
              "    .colab-df-convert:hover {\n",
              "      background-color: #E2EBFA;\n",
              "      box-shadow: 0px 1px 2px rgba(60, 64, 67, 0.3), 0px 1px 3px 1px rgba(60, 64, 67, 0.15);\n",
              "      fill: #174EA6;\n",
              "    }\n",
              "\n",
              "    [theme=dark] .colab-df-convert {\n",
              "      background-color: #3B4455;\n",
              "      fill: #D2E3FC;\n",
              "    }\n",
              "\n",
              "    [theme=dark] .colab-df-convert:hover {\n",
              "      background-color: #434B5C;\n",
              "      box-shadow: 0px 1px 3px 1px rgba(0, 0, 0, 0.15);\n",
              "      filter: drop-shadow(0px 1px 2px rgba(0, 0, 0, 0.3));\n",
              "      fill: #FFFFFF;\n",
              "    }\n",
              "  </style>\n",
              "\n",
              "      <script>\n",
              "        const buttonEl =\n",
              "          document.querySelector('#df-708b5826-a4a6-42a3-ad3e-d2cfc2a2778a button.colab-df-convert');\n",
              "        buttonEl.style.display =\n",
              "          google.colab.kernel.accessAllowed ? 'block' : 'none';\n",
              "\n",
              "        async function convertToInteractive(key) {\n",
              "          const element = document.querySelector('#df-708b5826-a4a6-42a3-ad3e-d2cfc2a2778a');\n",
              "          const dataTable =\n",
              "            await google.colab.kernel.invokeFunction('convertToInteractive',\n",
              "                                                     [key], {});\n",
              "          if (!dataTable) return;\n",
              "\n",
              "          const docLinkHtml = 'Like what you see? Visit the ' +\n",
              "            '<a target=\"_blank\" href=https://colab.research.google.com/notebooks/data_table.ipynb>data table notebook</a>'\n",
              "            + ' to learn more about interactive tables.';\n",
              "          element.innerHTML = '';\n",
              "          dataTable['output_type'] = 'display_data';\n",
              "          await google.colab.output.renderOutput(dataTable, element);\n",
              "          const docLink = document.createElement('div');\n",
              "          docLink.innerHTML = docLinkHtml;\n",
              "          element.appendChild(docLink);\n",
              "        }\n",
              "      </script>\n",
              "    </div>\n",
              "  </div>\n",
              "  "
            ]
          },
          "metadata": {},
          "execution_count": 7
        }
      ]
    },
    {
      "cell_type": "code",
      "source": [
        "#melihat info data\n",
        "df.info()"
      ],
      "metadata": {
        "colab": {
          "base_uri": "https://localhost:8080/"
        },
        "id": "AXvN_YIBtjiC",
        "outputId": "4870b12b-2be3-458b-e2eb-aeffa0682a61"
      },
      "execution_count": 8,
      "outputs": [
        {
          "output_type": "stream",
          "name": "stdout",
          "text": [
            "<class 'pandas.core.frame.DataFrame'>\n",
            "RangeIndex: 4475 entries, 0 to 4474\n",
            "Data columns (total 18 columns):\n",
            " #   Column                            Non-Null Count  Dtype  \n",
            "---  ------                            --------------  -----  \n",
            " 0   CUST_ID                           4475 non-null   int64  \n",
            " 1   BALANCE                           4475 non-null   float64\n",
            " 2   BALANCE_FREQUENCY                 4475 non-null   float64\n",
            " 3   PURCHASES                         4475 non-null   float64\n",
            " 4   ONEOFF_PURCHASES                  4475 non-null   float64\n",
            " 5   INSTALLMENTS_PURCHASES            4475 non-null   float64\n",
            " 6   CASH_ADVANCE                      4475 non-null   float64\n",
            " 7   PURCHASES_FREQUENCY               4475 non-null   float64\n",
            " 8   ONEOFF_PURCHASES_FREQUENCY        4475 non-null   float64\n",
            " 9   PURCHASES_INSTALLMENTS_FREQUENCY  4475 non-null   float64\n",
            " 10  CASH_ADVANCE_FREQUENCY            4475 non-null   float64\n",
            " 11  CASH_ADVANCE_TRX                  4475 non-null   int64  \n",
            " 12  PURCHASES_TRX                     4475 non-null   int64  \n",
            " 13  CREDIT_LIMIT                      4474 non-null   float64\n",
            " 14  PAYMENTS                          4475 non-null   float64\n",
            " 15  MINIMUM_PAYMENTS                  4317 non-null   float64\n",
            " 16  PRC_FULL_PAYMENT                  4475 non-null   float64\n",
            " 17  TENURE                            4475 non-null   int64  \n",
            "dtypes: float64(14), int64(4)\n",
            "memory usage: 629.4 KB\n"
          ]
        }
      ]
    },
    {
      "cell_type": "markdown",
      "source": [
        "- Dataset ini terdiri dari 4475 entri dan 18 kolom\n",
        "- Sebagian besar kolom merupakan tipe data float64, sementara beberapa lainnya merupakan tipe data int64"
      ],
      "metadata": {
        "id": "8vrPADVC0pPn"
      }
    },
    {
      "cell_type": "code",
      "source": [
        "#melihat dseskipsi analisis sederhana\n",
        "df.describe()"
      ],
      "metadata": {
        "colab": {
          "base_uri": "https://localhost:8080/",
          "height": 364
        },
        "id": "jaSBLNpdtnv9",
        "outputId": "442da7ad-3bda-4a35-90d0-4c2bafb386d8"
      },
      "execution_count": 9,
      "outputs": [
        {
          "output_type": "execute_result",
          "data": {
            "text/plain": [
              "           CUST_ID       BALANCE  BALANCE_FREQUENCY     PURCHASES  \\\n",
              "count  4475.000000   4475.000000        4475.000000   4475.000000   \n",
              "mean   4476.000000   1565.743939           0.877608   1003.158324   \n",
              "std    2583.931114   2091.205727           0.235604   2210.812899   \n",
              "min       2.000000      0.000000           0.000000      0.000000   \n",
              "25%    2239.000000    132.536353           0.888889     40.065000   \n",
              "50%    4476.000000    874.905296           1.000000    362.480000   \n",
              "75%    6713.000000   2058.519163           1.000000   1122.640000   \n",
              "max    8950.000000  19043.138560           1.000000  49039.570000   \n",
              "\n",
              "       ONEOFF_PURCHASES  INSTALLMENTS_PURCHASES  CASH_ADVANCE  \\\n",
              "count       4475.000000             4475.000000   4475.000000   \n",
              "mean         588.504849              415.025075    973.453671   \n",
              "std         1666.500287              927.360842   2133.464502   \n",
              "min            0.000000                0.000000      0.000000   \n",
              "25%            0.000000                0.000000      0.000000   \n",
              "50%           29.990000               89.450000      0.000000   \n",
              "75%          580.320000              484.255000   1098.569962   \n",
              "max        40761.250000            22500.000000  29282.109150   \n",
              "\n",
              "       PURCHASES_FREQUENCY  ONEOFF_PURCHASES_FREQUENCY  \\\n",
              "count          4475.000000                 4475.000000   \n",
              "mean              0.490122                    0.202614   \n",
              "std               0.399874                    0.298502   \n",
              "min               0.000000                    0.000000   \n",
              "25%               0.083333                    0.000000   \n",
              "50%               0.500000                    0.083333   \n",
              "75%               0.916667                    0.333333   \n",
              "max               1.000000                    1.000000   \n",
              "\n",
              "       PURCHASES_INSTALLMENTS_FREQUENCY  CASH_ADVANCE_FREQUENCY  \\\n",
              "count                       4475.000000             4475.000000   \n",
              "mean                           0.364989                0.134156   \n",
              "std                            0.397336                0.199221   \n",
              "min                            0.000000                0.000000   \n",
              "25%                            0.000000                0.000000   \n",
              "50%                            0.166667                0.000000   \n",
              "75%                            0.750000                0.181818   \n",
              "max                            1.000000                1.166667   \n",
              "\n",
              "       CASH_ADVANCE_TRX  PURCHASES_TRX  CREDIT_LIMIT      PAYMENTS  \\\n",
              "count       4475.000000    4475.000000   4474.000000   4475.000000   \n",
              "mean           3.196425      14.490503   4494.020175   1726.212274   \n",
              "std            6.500169      24.156038   3668.535689   2961.258570   \n",
              "min            0.000000       0.000000    150.000000      0.000000   \n",
              "25%            0.000000       1.000000   1500.000000    390.206371   \n",
              "50%            0.000000       7.000000   3000.000000    831.048408   \n",
              "75%            4.000000      17.000000   6000.000000   1895.959003   \n",
              "max          110.000000     358.000000  30000.000000  46930.598240   \n",
              "\n",
              "       MINIMUM_PAYMENTS  PRC_FULL_PAYMENT       TENURE  \n",
              "count       4317.000000       4475.000000  4475.000000  \n",
              "mean         854.429538          0.157206    11.516425  \n",
              "std         2306.411178          0.295869     1.347819  \n",
              "min            0.037744          0.000000     6.000000  \n",
              "25%          169.814310          0.000000    12.000000  \n",
              "50%          309.854995          0.000000    12.000000  \n",
              "75%          830.395060          0.166667    12.000000  \n",
              "max        61031.618600          1.000000    12.000000  "
            ],
            "text/html": [
              "\n",
              "  <div id=\"df-03369a5e-39fa-4219-9c29-49ec7d80859f\">\n",
              "    <div class=\"colab-df-container\">\n",
              "      <div>\n",
              "<style scoped>\n",
              "    .dataframe tbody tr th:only-of-type {\n",
              "        vertical-align: middle;\n",
              "    }\n",
              "\n",
              "    .dataframe tbody tr th {\n",
              "        vertical-align: top;\n",
              "    }\n",
              "\n",
              "    .dataframe thead th {\n",
              "        text-align: right;\n",
              "    }\n",
              "</style>\n",
              "<table border=\"1\" class=\"dataframe\">\n",
              "  <thead>\n",
              "    <tr style=\"text-align: right;\">\n",
              "      <th></th>\n",
              "      <th>CUST_ID</th>\n",
              "      <th>BALANCE</th>\n",
              "      <th>BALANCE_FREQUENCY</th>\n",
              "      <th>PURCHASES</th>\n",
              "      <th>ONEOFF_PURCHASES</th>\n",
              "      <th>INSTALLMENTS_PURCHASES</th>\n",
              "      <th>CASH_ADVANCE</th>\n",
              "      <th>PURCHASES_FREQUENCY</th>\n",
              "      <th>ONEOFF_PURCHASES_FREQUENCY</th>\n",
              "      <th>PURCHASES_INSTALLMENTS_FREQUENCY</th>\n",
              "      <th>CASH_ADVANCE_FREQUENCY</th>\n",
              "      <th>CASH_ADVANCE_TRX</th>\n",
              "      <th>PURCHASES_TRX</th>\n",
              "      <th>CREDIT_LIMIT</th>\n",
              "      <th>PAYMENTS</th>\n",
              "      <th>MINIMUM_PAYMENTS</th>\n",
              "      <th>PRC_FULL_PAYMENT</th>\n",
              "      <th>TENURE</th>\n",
              "    </tr>\n",
              "  </thead>\n",
              "  <tbody>\n",
              "    <tr>\n",
              "      <th>count</th>\n",
              "      <td>4475.000000</td>\n",
              "      <td>4475.000000</td>\n",
              "      <td>4475.000000</td>\n",
              "      <td>4475.000000</td>\n",
              "      <td>4475.000000</td>\n",
              "      <td>4475.000000</td>\n",
              "      <td>4475.000000</td>\n",
              "      <td>4475.000000</td>\n",
              "      <td>4475.000000</td>\n",
              "      <td>4475.000000</td>\n",
              "      <td>4475.000000</td>\n",
              "      <td>4475.000000</td>\n",
              "      <td>4475.000000</td>\n",
              "      <td>4474.000000</td>\n",
              "      <td>4475.000000</td>\n",
              "      <td>4317.000000</td>\n",
              "      <td>4475.000000</td>\n",
              "      <td>4475.000000</td>\n",
              "    </tr>\n",
              "    <tr>\n",
              "      <th>mean</th>\n",
              "      <td>4476.000000</td>\n",
              "      <td>1565.743939</td>\n",
              "      <td>0.877608</td>\n",
              "      <td>1003.158324</td>\n",
              "      <td>588.504849</td>\n",
              "      <td>415.025075</td>\n",
              "      <td>973.453671</td>\n",
              "      <td>0.490122</td>\n",
              "      <td>0.202614</td>\n",
              "      <td>0.364989</td>\n",
              "      <td>0.134156</td>\n",
              "      <td>3.196425</td>\n",
              "      <td>14.490503</td>\n",
              "      <td>4494.020175</td>\n",
              "      <td>1726.212274</td>\n",
              "      <td>854.429538</td>\n",
              "      <td>0.157206</td>\n",
              "      <td>11.516425</td>\n",
              "    </tr>\n",
              "    <tr>\n",
              "      <th>std</th>\n",
              "      <td>2583.931114</td>\n",
              "      <td>2091.205727</td>\n",
              "      <td>0.235604</td>\n",
              "      <td>2210.812899</td>\n",
              "      <td>1666.500287</td>\n",
              "      <td>927.360842</td>\n",
              "      <td>2133.464502</td>\n",
              "      <td>0.399874</td>\n",
              "      <td>0.298502</td>\n",
              "      <td>0.397336</td>\n",
              "      <td>0.199221</td>\n",
              "      <td>6.500169</td>\n",
              "      <td>24.156038</td>\n",
              "      <td>3668.535689</td>\n",
              "      <td>2961.258570</td>\n",
              "      <td>2306.411178</td>\n",
              "      <td>0.295869</td>\n",
              "      <td>1.347819</td>\n",
              "    </tr>\n",
              "    <tr>\n",
              "      <th>min</th>\n",
              "      <td>2.000000</td>\n",
              "      <td>0.000000</td>\n",
              "      <td>0.000000</td>\n",
              "      <td>0.000000</td>\n",
              "      <td>0.000000</td>\n",
              "      <td>0.000000</td>\n",
              "      <td>0.000000</td>\n",
              "      <td>0.000000</td>\n",
              "      <td>0.000000</td>\n",
              "      <td>0.000000</td>\n",
              "      <td>0.000000</td>\n",
              "      <td>0.000000</td>\n",
              "      <td>0.000000</td>\n",
              "      <td>150.000000</td>\n",
              "      <td>0.000000</td>\n",
              "      <td>0.037744</td>\n",
              "      <td>0.000000</td>\n",
              "      <td>6.000000</td>\n",
              "    </tr>\n",
              "    <tr>\n",
              "      <th>25%</th>\n",
              "      <td>2239.000000</td>\n",
              "      <td>132.536353</td>\n",
              "      <td>0.888889</td>\n",
              "      <td>40.065000</td>\n",
              "      <td>0.000000</td>\n",
              "      <td>0.000000</td>\n",
              "      <td>0.000000</td>\n",
              "      <td>0.083333</td>\n",
              "      <td>0.000000</td>\n",
              "      <td>0.000000</td>\n",
              "      <td>0.000000</td>\n",
              "      <td>0.000000</td>\n",
              "      <td>1.000000</td>\n",
              "      <td>1500.000000</td>\n",
              "      <td>390.206371</td>\n",
              "      <td>169.814310</td>\n",
              "      <td>0.000000</td>\n",
              "      <td>12.000000</td>\n",
              "    </tr>\n",
              "    <tr>\n",
              "      <th>50%</th>\n",
              "      <td>4476.000000</td>\n",
              "      <td>874.905296</td>\n",
              "      <td>1.000000</td>\n",
              "      <td>362.480000</td>\n",
              "      <td>29.990000</td>\n",
              "      <td>89.450000</td>\n",
              "      <td>0.000000</td>\n",
              "      <td>0.500000</td>\n",
              "      <td>0.083333</td>\n",
              "      <td>0.166667</td>\n",
              "      <td>0.000000</td>\n",
              "      <td>0.000000</td>\n",
              "      <td>7.000000</td>\n",
              "      <td>3000.000000</td>\n",
              "      <td>831.048408</td>\n",
              "      <td>309.854995</td>\n",
              "      <td>0.000000</td>\n",
              "      <td>12.000000</td>\n",
              "    </tr>\n",
              "    <tr>\n",
              "      <th>75%</th>\n",
              "      <td>6713.000000</td>\n",
              "      <td>2058.519163</td>\n",
              "      <td>1.000000</td>\n",
              "      <td>1122.640000</td>\n",
              "      <td>580.320000</td>\n",
              "      <td>484.255000</td>\n",
              "      <td>1098.569962</td>\n",
              "      <td>0.916667</td>\n",
              "      <td>0.333333</td>\n",
              "      <td>0.750000</td>\n",
              "      <td>0.181818</td>\n",
              "      <td>4.000000</td>\n",
              "      <td>17.000000</td>\n",
              "      <td>6000.000000</td>\n",
              "      <td>1895.959003</td>\n",
              "      <td>830.395060</td>\n",
              "      <td>0.166667</td>\n",
              "      <td>12.000000</td>\n",
              "    </tr>\n",
              "    <tr>\n",
              "      <th>max</th>\n",
              "      <td>8950.000000</td>\n",
              "      <td>19043.138560</td>\n",
              "      <td>1.000000</td>\n",
              "      <td>49039.570000</td>\n",
              "      <td>40761.250000</td>\n",
              "      <td>22500.000000</td>\n",
              "      <td>29282.109150</td>\n",
              "      <td>1.000000</td>\n",
              "      <td>1.000000</td>\n",
              "      <td>1.000000</td>\n",
              "      <td>1.166667</td>\n",
              "      <td>110.000000</td>\n",
              "      <td>358.000000</td>\n",
              "      <td>30000.000000</td>\n",
              "      <td>46930.598240</td>\n",
              "      <td>61031.618600</td>\n",
              "      <td>1.000000</td>\n",
              "      <td>12.000000</td>\n",
              "    </tr>\n",
              "  </tbody>\n",
              "</table>\n",
              "</div>\n",
              "      <button class=\"colab-df-convert\" onclick=\"convertToInteractive('df-03369a5e-39fa-4219-9c29-49ec7d80859f')\"\n",
              "              title=\"Convert this dataframe to an interactive table.\"\n",
              "              style=\"display:none;\">\n",
              "        \n",
              "  <svg xmlns=\"http://www.w3.org/2000/svg\" height=\"24px\"viewBox=\"0 0 24 24\"\n",
              "       width=\"24px\">\n",
              "    <path d=\"M0 0h24v24H0V0z\" fill=\"none\"/>\n",
              "    <path d=\"M18.56 5.44l.94 2.06.94-2.06 2.06-.94-2.06-.94-.94-2.06-.94 2.06-2.06.94zm-11 1L8.5 8.5l.94-2.06 2.06-.94-2.06-.94L8.5 2.5l-.94 2.06-2.06.94zm10 10l.94 2.06.94-2.06 2.06-.94-2.06-.94-.94-2.06-.94 2.06-2.06.94z\"/><path d=\"M17.41 7.96l-1.37-1.37c-.4-.4-.92-.59-1.43-.59-.52 0-1.04.2-1.43.59L10.3 9.45l-7.72 7.72c-.78.78-.78 2.05 0 2.83L4 21.41c.39.39.9.59 1.41.59.51 0 1.02-.2 1.41-.59l7.78-7.78 2.81-2.81c.8-.78.8-2.07 0-2.86zM5.41 20L4 18.59l7.72-7.72 1.47 1.35L5.41 20z\"/>\n",
              "  </svg>\n",
              "      </button>\n",
              "      \n",
              "  <style>\n",
              "    .colab-df-container {\n",
              "      display:flex;\n",
              "      flex-wrap:wrap;\n",
              "      gap: 12px;\n",
              "    }\n",
              "\n",
              "    .colab-df-convert {\n",
              "      background-color: #E8F0FE;\n",
              "      border: none;\n",
              "      border-radius: 50%;\n",
              "      cursor: pointer;\n",
              "      display: none;\n",
              "      fill: #1967D2;\n",
              "      height: 32px;\n",
              "      padding: 0 0 0 0;\n",
              "      width: 32px;\n",
              "    }\n",
              "\n",
              "    .colab-df-convert:hover {\n",
              "      background-color: #E2EBFA;\n",
              "      box-shadow: 0px 1px 2px rgba(60, 64, 67, 0.3), 0px 1px 3px 1px rgba(60, 64, 67, 0.15);\n",
              "      fill: #174EA6;\n",
              "    }\n",
              "\n",
              "    [theme=dark] .colab-df-convert {\n",
              "      background-color: #3B4455;\n",
              "      fill: #D2E3FC;\n",
              "    }\n",
              "\n",
              "    [theme=dark] .colab-df-convert:hover {\n",
              "      background-color: #434B5C;\n",
              "      box-shadow: 0px 1px 3px 1px rgba(0, 0, 0, 0.15);\n",
              "      filter: drop-shadow(0px 1px 2px rgba(0, 0, 0, 0.3));\n",
              "      fill: #FFFFFF;\n",
              "    }\n",
              "  </style>\n",
              "\n",
              "      <script>\n",
              "        const buttonEl =\n",
              "          document.querySelector('#df-03369a5e-39fa-4219-9c29-49ec7d80859f button.colab-df-convert');\n",
              "        buttonEl.style.display =\n",
              "          google.colab.kernel.accessAllowed ? 'block' : 'none';\n",
              "\n",
              "        async function convertToInteractive(key) {\n",
              "          const element = document.querySelector('#df-03369a5e-39fa-4219-9c29-49ec7d80859f');\n",
              "          const dataTable =\n",
              "            await google.colab.kernel.invokeFunction('convertToInteractive',\n",
              "                                                     [key], {});\n",
              "          if (!dataTable) return;\n",
              "\n",
              "          const docLinkHtml = 'Like what you see? Visit the ' +\n",
              "            '<a target=\"_blank\" href=https://colab.research.google.com/notebooks/data_table.ipynb>data table notebook</a>'\n",
              "            + ' to learn more about interactive tables.';\n",
              "          element.innerHTML = '';\n",
              "          dataTable['output_type'] = 'display_data';\n",
              "          await google.colab.output.renderOutput(dataTable, element);\n",
              "          const docLink = document.createElement('div');\n",
              "          docLink.innerHTML = docLinkHtml;\n",
              "          element.appendChild(docLink);\n",
              "        }\n",
              "      </script>\n",
              "    </div>\n",
              "  </div>\n",
              "  "
            ]
          },
          "metadata": {},
          "execution_count": 9
        }
      ]
    },
    {
      "cell_type": "markdown",
      "source": [
        "- Rata-rata dari saldo adalah 1565,74, dengan saldo minimum 0 dan saldo maksimum 19043,14.\n",
        "\n",
        "- Jumlah rata-rata dari pembelian adalah 1003,16, dengan pembelian minimum 0 dan pembelian maksimum 49039,57.\n",
        "\n",
        "- Rata-rata jumlah tarik tunai adalah 973,45, dengan jumlah tarik tunai minimum 0 dan jumlah tarik tunai maksimum 29282,11.\n",
        "\n",
        "- Rata-rata pelanggan lebih sering melakukan pembelian (0,49) dibandingkan dengan pembelian sekali bayar (0,20) atau pembelian dengan cicilan (0,36).\n",
        "\n",
        "- Jumlah rata-rata dari batas kredit adalah 4494.02, dengan batas kredit minimum 150 dan batas kredit maksimum 30000.\n",
        "\n",
        "- Jumlah pembayaran rata-rata adalah 1726.21, dengan pembayaran minimum 0 dan pembayaran maksimum 46930.60.\n",
        "\n",
        "- Hanya 15,72% nasabah yang membayar tagihan kartu kredit mereka secara penuh.\n",
        "\n",
        "- Rata-rata tenor (lamanya nasabah memiliki kartu kredit) adalah 11,52 bulan."
      ],
      "metadata": {
        "id": "2MABBKg5iX_s"
      }
    },
    {
      "cell_type": "markdown",
      "source": [
        "#V. Exploratory Data Analysis (EDA)"
      ],
      "metadata": {
        "id": "ghLpmlh6xvQi"
      }
    },
    {
      "cell_type": "markdown",
      "source": [
        "> Melihat total pembelian yang dilakukan oleh pelanggan"
      ],
      "metadata": {
        "id": "fobmYCFhyV7G"
      }
    },
    {
      "cell_type": "code",
      "source": [
        "#melihat DA dari kolom 'PURCHASES'\n",
        "df['PURCHASES'].describe()"
      ],
      "metadata": {
        "colab": {
          "base_uri": "https://localhost:8080/"
        },
        "id": "byJyJLnUxtMa",
        "outputId": "af4c7118-a551-43c9-fef4-71f1dd6ebbd0"
      },
      "execution_count": 10,
      "outputs": [
        {
          "output_type": "execute_result",
          "data": {
            "text/plain": [
              "count     4475.000000\n",
              "mean      1003.158324\n",
              "std       2210.812899\n",
              "min          0.000000\n",
              "25%         40.065000\n",
              "50%        362.480000\n",
              "75%       1122.640000\n",
              "max      49039.570000\n",
              "Name: PURCHASES, dtype: float64"
            ]
          },
          "metadata": {},
          "execution_count": 10
        }
      ]
    },
    {
      "cell_type": "markdown",
      "source": [
        "Kolom \"PURCHASES\" memiliki nilai nilai rata2 1003.16 dengan standar deviasi 2210.81, yang menunjukkan variasi yang cukup besar dalam jumlah pembelian pelanggan. Minimum nilai pembelian adalah 0, yang menunjukkan bahwa ada pelanggan yang tidak melakukan pembelian sama sekali. Sedangkan nilai maksimum pembelian 49039.57, yang menunjukkan bahwa ada pelanggan yang melakukan pembelian dalam jumlah yang sangat besar."
      ],
      "metadata": {
        "id": "KjT5_3SFlBC9"
      }
    },
    {
      "cell_type": "code",
      "source": [
        "#distribusi data dari kolom 'PURCHASES'\n",
        "sns.histplot(df['PURCHASES'], bins=50, kde=True)\n",
        "plt.title('Distribution of Purchases')\n",
        "plt.xlabel('Purchases')\n",
        "plt.ylabel('Count')\n",
        "plt.show()"
      ],
      "metadata": {
        "colab": {
          "base_uri": "https://localhost:8080/",
          "height": 295
        },
        "id": "XMkUo17hy2V3",
        "outputId": "a7601be5-4559-4352-818b-7ff73071a64f"
      },
      "execution_count": 11,
      "outputs": [
        {
          "output_type": "display_data",
          "data": {
            "text/plain": [
              "<Figure size 432x288 with 1 Axes>"
            ],
            "image/png": "[encoded data removed]"
          },
          "metadata": {
            "needs_background": "light"
          }
        }
      ]
    },
    {
      "cell_type": "markdown",
      "source": [
        "kesimpulan dari visualisasi tersebut adalah terlihat bahwa jumlah data yang semakin berkurang seiring dengan meningkatnya nilai pembelian. Ini menunjukkan bahwa lebih banyak pelanggan melakukan pembelian dengan nilai rendah atau sedang, dibandingkan dengan pembelian dengan nilai yang sangat tinggi"
      ],
      "metadata": {
        "id": "Y_04-zI6zLtH"
      }
    },
    {
      "cell_type": "code",
      "source": [
        "# Visualize the relationship between 'PURCHASES' and 'CREDIT_LIMIT'\n",
        "sns.scatterplot(data=df, x='CREDIT_LIMIT', y='PURCHASES')\n",
        "plt.title('Relationship between Credit Limit and Purchases')\n",
        "plt.show()"
      ],
      "metadata": {
        "colab": {
          "base_uri": "https://localhost:8080/",
          "height": 296
        },
        "id": "_aBYuWtKzWDq",
        "outputId": "45b0e7ff-6ec8-4901-a49d-b3dbaa22fc09"
      },
      "execution_count": 12,
      "outputs": [
        {
          "output_type": "display_data",
          "data": {
            "text/plain": [
              "<Figure size 432x288 with 1 Axes>"
            ],
            "image/png": "[encoded data removed]"
          },
          "metadata": {
            "needs_background": "light"
          }
        }
      ]
    },
    {
      "cell_type": "markdown",
      "source": [
        "mayoritas pelanggan memiliki batas kredit dan jumlah pembelian yang relatif rendah (dalam kisaran 0-20000). Namun, terdapat sejumlah besar data yang terletak di luar kisaran tersebut (outliers), yang menunjukkan adanya sejumlah pelanggan yang melakukan pembelian dalam jumlah yang jauh lebih besar atau memiliki batas kredit yang lebih tinggi."
      ],
      "metadata": {
        "id": "wffoxxjXmnu9"
      }
    },
    {
      "cell_type": "markdown",
      "source": [
        "> Melihat batas kredit yang diberikan kepada pelanggan"
      ],
      "metadata": {
        "id": "B2fMvh0hzrbW"
      }
    },
    {
      "cell_type": "code",
      "source": [
        "df['CREDIT_LIMIT'].describe()"
      ],
      "metadata": {
        "id": "oAmCM3EnzaBA",
        "colab": {
          "base_uri": "https://localhost:8080/"
        },
        "outputId": "f9a77017-44e0-4081-f5a4-eeb3ecb62f71"
      },
      "execution_count": 13,
      "outputs": [
        {
          "output_type": "execute_result",
          "data": {
            "text/plain": [
              "count     4474.000000\n",
              "mean      4494.020175\n",
              "std       3668.535689\n",
              "min        150.000000\n",
              "25%       1500.000000\n",
              "50%       3000.000000\n",
              "75%       6000.000000\n",
              "max      30000.000000\n",
              "Name: CREDIT_LIMIT, dtype: float64"
            ]
          },
          "metadata": {},
          "execution_count": 13
        }
      ]
    },
    {
      "cell_type": "markdown",
      "source": [
        "mayoritas pelanggan memiliki batas kredit yang relatif rendah (dalam kisaran 150-6000), dengan nilai rata-rata sebesar 4494.02. Namun, terdapat pula sejumlah pelanggan yang memiliki batas kredit yang lebih tinggi, bahkan mencapai nilai tertinggi 30000"
      ],
      "metadata": {
        "id": "cvD7jE2CqRPc"
      }
    },
    {
      "cell_type": "code",
      "source": [
        "# Visualize the distribution of 'CREDIT_LIMIT'\n",
        "sns.histplot(df['CREDIT_LIMIT'], bins=50, kde=True)\n",
        "plt.title('Distribution of Credit Limit')\n",
        "plt.xlabel('Credit Limit')\n",
        "plt.ylabel('Count')\n",
        "plt.show()"
      ],
      "metadata": {
        "id": "fyE3sL08zxdq",
        "colab": {
          "base_uri": "https://localhost:8080/",
          "height": 295
        },
        "outputId": "6f66244a-a870-40ea-a1a3-e51d6366b941"
      },
      "execution_count": 14,
      "outputs": [
        {
          "output_type": "display_data",
          "data": {
            "text/plain": [
              "<Figure size 432x288 with 1 Axes>"
            ],
            "image/png": "[encoded data removed]"
          },
          "metadata": {
            "needs_background": "light"
          }
        }
      ]
    },
    {
      "cell_type": "markdown",
      "source": [
        "dari visualisasinya menunjukkan bahwa sebagian besar pelanggan memiliki batas kredit yang relatif kecil, sementara hanya sedikit pelanggan yang memiliki batas kredit yang lebih besar."
      ],
      "metadata": {
        "id": "bcELFZfBqTX0"
      }
    },
    {
      "cell_type": "code",
      "source": [
        "# Visualize the relationship between 'CREDIT_LIMIT' and 'BALANCE'\n",
        "sns.scatterplot(data=df, x='BALANCE', y='CREDIT_LIMIT')\n",
        "plt.title('Relationship between Balance and Credit Limit')\n",
        "plt.show()"
      ],
      "metadata": {
        "id": "z_I28ANKz0Re",
        "colab": {
          "base_uri": "https://localhost:8080/",
          "height": 295
        },
        "outputId": "5801c2d3-11aa-4dbf-9c8e-240b58bde22f"
      },
      "execution_count": 15,
      "outputs": [
        {
          "output_type": "display_data",
          "data": {
            "text/plain": [
              "<Figure size 432x288 with 1 Axes>"
            ],
            "image/png": "[encoded data removed]"
          },
          "metadata": {
            "needs_background": "light"
          }
        }
      ]
    },
    {
      "cell_type": "markdown",
      "source": [
        "Dari visualisasi ini, dapat dilihat hubungan antara nilai saldo akun dan batas kredit pelanggan. Garis diagonal pada plot menunjukkan bahwa terdapat korelasi positif antara keduanya, artinya semakin tinggi nilai batas kredit, semakin tinggi pula nilai saldo akun pelanggan. Namun, terdapat juga sejumlah titik yang berada di bawah garis diagonal, yang menunjukkan adanya pelanggan dengan nilai batas kredit yang tinggi namun memiliki saldo akun yang rendah"
      ],
      "metadata": {
        "id": "kWB0XMlur1iT"
      }
    },
    {
      "cell_type": "markdown",
      "source": [
        "> Melihat total pembayaran yang dilakukan oleh pelanggan"
      ],
      "metadata": {
        "id": "MHw18-qsz2TW"
      }
    },
    {
      "cell_type": "code",
      "source": [
        "df['PAYMENTS'].describe()"
      ],
      "metadata": {
        "id": "Ej6lTuSXz7lN",
        "colab": {
          "base_uri": "https://localhost:8080/"
        },
        "outputId": "54a98b09-41f8-47e1-a164-bd5cfd5a1baa"
      },
      "execution_count": 16,
      "outputs": [
        {
          "output_type": "execute_result",
          "data": {
            "text/plain": [
              "count     4475.000000\n",
              "mean      1726.212274\n",
              "std       2961.258570\n",
              "min          0.000000\n",
              "25%        390.206371\n",
              "50%        831.048408\n",
              "75%       1895.959003\n",
              "max      46930.598240\n",
              "Name: PAYMENTS, dtype: float64"
            ]
          },
          "metadata": {},
          "execution_count": 16
        }
      ]
    },
    {
      "cell_type": "markdown",
      "source": [
        "Rata-rata jumlah pembayaran adalah sebesar 1726.212274, dengan standar deviasi sebesar 2961.258570. Nilai minimum yang tercatat adalah 0, sedangkan nilai maksimum yang tercatat adalah sebesar 46930.598240. Dari persentil data, diketahui bahwa 75% dari pelanggan memiliki total pembayaran kurang dari atau sama dengan 1895.959003. Hal ini menunjukkan adanya variasi yang cukup besar dalam jumlah pembayaran pelanggan."
      ],
      "metadata": {
        "id": "aKgWed4usaEs"
      }
    },
    {
      "cell_type": "code",
      "source": [
        "# Visualize the distribution of 'PAYMENTS'\n",
        "sns.histplot(df['PAYMENTS'], bins=50, kde=True)\n",
        "plt.title('Distribution of Payments')\n",
        "plt.xlabel('Payments')\n",
        "plt.ylabel('Count')\n",
        "plt.show()"
      ],
      "metadata": {
        "id": "A_38RumQz-Yp",
        "colab": {
          "base_uri": "https://localhost:8080/",
          "height": 295
        },
        "outputId": "6310626a-42b0-40d4-af07-6f86012a8258"
      },
      "execution_count": 17,
      "outputs": [
        {
          "output_type": "display_data",
          "data": {
            "text/plain": [
              "<Figure size 432x288 with 1 Axes>"
            ],
            "image/png": "[encoded data removed]"
          },
          "metadata": {
            "needs_background": "light"
          }
        }
      ]
    },
    {
      "cell_type": "markdown",
      "source": [
        "dari visualisasi tersebut menunjukkan bahwa sebagian besar pelanggan melakukan pembayaran dengan jumlah yang relatif kecil dan hanya sedikit pelanggan yang melakukan pembayaran dengan jumlah yang lebih besar"
      ],
      "metadata": {
        "id": "8d_jidK4sihI"
      }
    },
    {
      "cell_type": "code",
      "source": [
        "# Visualize the relationship between 'PAYMENTS' and 'BALANCE'\n",
        "sns.scatterplot(data=df, x='BALANCE', y='PAYMENTS')\n",
        "plt.title('Relationship between Balance and Payments')\n",
        "plt.show()"
      ],
      "metadata": {
        "id": "TsQzGCO10AJg",
        "colab": {
          "base_uri": "https://localhost:8080/",
          "height": 295
        },
        "outputId": "99c084a0-4512-493d-982f-874b7ca6d14b"
      },
      "execution_count": 18,
      "outputs": [
        {
          "output_type": "display_data",
          "data": {
            "text/plain": [
              "<Figure size 432x288 with 1 Axes>"
            ],
            "image/png": "[encoded data removed]"
          },
          "metadata": {
            "needs_background": "light"
          }
        }
      ]
    },
    {
      "cell_type": "markdown",
      "source": [
        "Garis diagonal pada visualisasi tersebut menunjukkan pengguna kartu kredit yang membayar saldo mereka setiap bulannya secara konsisten, sedangkan sebaran titik-titik data yang tersebar merata menunjukkan bahwa pengguna kartu kredit memiliki pola pembayaran yang tidak konsisten"
      ],
      "metadata": {
        "id": "5R_N10ZPvL1S"
      }
    },
    {
      "cell_type": "markdown",
      "source": [
        "> Melihat pembayaran minimum yang dilakukan oleh pelanggan"
      ],
      "metadata": {
        "id": "z968pptg0B4T"
      }
    },
    {
      "cell_type": "code",
      "source": [
        "df['MINIMUM_PAYMENTS'].describe()"
      ],
      "metadata": {
        "id": "D6JY3B2v0GHB",
        "colab": {
          "base_uri": "https://localhost:8080/"
        },
        "outputId": "82c0e840-d5db-4e4e-e461-ee604c66e227"
      },
      "execution_count": 19,
      "outputs": [
        {
          "output_type": "execute_result",
          "data": {
            "text/plain": [
              "count     4317.000000\n",
              "mean       854.429538\n",
              "std       2306.411178\n",
              "min          0.037744\n",
              "25%        169.814310\n",
              "50%        309.854995\n",
              "75%        830.395060\n",
              "max      61031.618600\n",
              "Name: MINIMUM_PAYMENTS, dtype: float64"
            ]
          },
          "metadata": {},
          "execution_count": 19
        }
      ]
    },
    {
      "cell_type": "markdown",
      "source": [
        "disimpulkan bahwa terdapat beberapa pengguna kartu kredit yang membayar nilai minimum payments dengan jumlah yang sangat besar. Namun, mayoritas pengguna kartu kredit membayar nilai minimum payments pada rentang yang cukup wajar."
      ],
      "metadata": {
        "id": "ZaxRzA6owZXq"
      }
    },
    {
      "cell_type": "code",
      "source": [
        "# Visualize the distribution of 'MINIMUM_PAYMENTS'\n",
        "sns.histplot(df['MINIMUM_PAYMENTS'], bins=50, kde=True)\n",
        "plt.title('Distribution of Minimum Payments')\n",
        "plt.xlabel('Minimum Payments')\n",
        "plt.ylabel('Count')\n",
        "plt.show()"
      ],
      "metadata": {
        "id": "ObFRWzdO0JLh",
        "colab": {
          "base_uri": "https://localhost:8080/",
          "height": 295
        },
        "outputId": "f31d30ef-2c44-4095-b611-b090144ff6d6"
      },
      "execution_count": 20,
      "outputs": [
        {
          "output_type": "display_data",
          "data": {
            "text/plain": [
              "<Figure size 432x288 with 1 Axes>"
            ],
            "image/png": "[encoded data removed]"
          },
          "metadata": {
            "needs_background": "light"
          }
        }
      ]
    },
    {
      "cell_type": "markdown",
      "source": [
        "dari visualisasi tersebut menunjukkan bahwa sebagian besar nilai minimum pembayaran relatif kecil, namun ada beberapa nilai yang sangat besar."
      ],
      "metadata": {
        "id": "V1Rb34njxJU3"
      }
    },
    {
      "cell_type": "code",
      "source": [
        "# Visualize the relationship between 'MINIMUM_PAYMENTS' and 'BALANCE'\n",
        "sns.scatterplot(data=df, x='BALANCE', y='MINIMUM_PAYMENTS')\n",
        "plt.title('Relationship between Balance and Minimum Payments')\n",
        "plt.show()"
      ],
      "metadata": {
        "id": "U9zVjvBE0K_D",
        "colab": {
          "base_uri": "https://localhost:8080/",
          "height": 295
        },
        "outputId": "7f39ce1a-0d17-49ff-9951-7be9747d3f3b"
      },
      "execution_count": 21,
      "outputs": [
        {
          "output_type": "display_data",
          "data": {
            "text/plain": [
              "<Figure size 432x288 with 1 Axes>"
            ],
            "image/png": "[encoded data removed]"
          },
          "metadata": {
            "needs_background": "light"
          }
        }
      ]
    },
    {
      "cell_type": "markdown",
      "source": [
        "dari visualisasi tersebut menunjukkan bahwa tidak ada korelasi yang kuat antara saldo pengguna kartu kredit dan pembayaran minimum yang harus dibayarkan setiap bulannya"
      ],
      "metadata": {
        "id": "My89VW_Uxdht"
      }
    },
    {
      "cell_type": "markdown",
      "source": [
        "> Melihat jangka waktu penggunaan kartu kredit oleh pelanggan"
      ],
      "metadata": {
        "id": "cwlDvDHw0QNG"
      }
    },
    {
      "cell_type": "code",
      "source": [
        "df['TENURE'].describe()"
      ],
      "metadata": {
        "id": "Qdib80_f0Mvr",
        "colab": {
          "base_uri": "https://localhost:8080/"
        },
        "outputId": "cd196a7b-e0a0-4a90-efa8-2b4d70091943"
      },
      "execution_count": 22,
      "outputs": [
        {
          "output_type": "execute_result",
          "data": {
            "text/plain": [
              "count    4475.000000\n",
              "mean       11.516425\n",
              "std         1.347819\n",
              "min         6.000000\n",
              "25%        12.000000\n",
              "50%        12.000000\n",
              "75%        12.000000\n",
              "max        12.000000\n",
              "Name: TENURE, dtype: float64"
            ]
          },
          "metadata": {},
          "execution_count": 22
        }
      ]
    },
    {
      "cell_type": "markdown",
      "source": [
        "- Data tenure memiliki 4475 jumlah data dengan rentang nilai tenure antara 6 hingga 12 bulan\n",
        "\n",
        "- Rata-rata tenure adalah sekitar 11,5 bulan dengan standar deviasi sebesar 1,35 bulan, yang menunjukkan tingkat variasi yang relatif rendah\n",
        "\n",
        "- Nilai median tenure sama dengan nilai kuartil ke-2, yaitu 12 bulan. Hal ini menunjukkan bahwa sebagian besar pengguna kartu kredit dalam  memegang kartu kredit selama 12 bulan"
      ],
      "metadata": {
        "id": "VUmbDqiRx1t4"
      }
    },
    {
      "cell_type": "code",
      "source": [
        "# Visualize the distribution of 'TENURE'\n",
        "sns.histplot(df['TENURE'], bins=10, kde=False)\n",
        "plt.title('Distribution of Tenure')\n",
        "plt.xlabel('Tenure')\n",
        "plt.ylabel('Count')\n",
        "plt.show()"
      ],
      "metadata": {
        "id": "8ROA8elZ0Whd",
        "colab": {
          "base_uri": "https://localhost:8080/",
          "height": 295
        },
        "outputId": "595bddfd-f373-4b14-b547-80fa07399150"
      },
      "execution_count": 23,
      "outputs": [
        {
          "output_type": "display_data",
          "data": {
            "text/plain": [
              "<Figure size 432x288 with 1 Axes>"
            ],
            "image/png": "[encoded data removed]"
          },
          "metadata": {
            "needs_background": "light"
          }
        }
      ]
    },
    {
      "cell_type": "markdown",
      "source": [
        "dari visualisasi tersebut, terlihat bahwa sebagian besar pengguna memiliki tenure selama 12 bulan, sedangkan pengguna dengan tenure kurang dari 12 bulan jauh lebih sedikit."
      ],
      "metadata": {
        "id": "DPHzGlJfyxMM"
      }
    },
    {
      "cell_type": "code",
      "source": [
        "# Visualize the relationship between 'TENURE' and 'BALANCE'\n",
        "sns.scatterplot(data=df, x='BALANCE', y='TENURE')\n",
        "plt.title('Relationship between Balance and Tenure')\n",
        "plt.show()"
      ],
      "metadata": {
        "id": "Hw9uE58n0YVI",
        "colab": {
          "base_uri": "https://localhost:8080/",
          "height": 295
        },
        "outputId": "35ef2b9e-fad4-4a9a-fbb4-77e566c2b9e1"
      },
      "execution_count": 24,
      "outputs": [
        {
          "output_type": "display_data",
          "data": {
            "text/plain": [
              "<Figure size 432x288 with 1 Axes>"
            ],
            "image/png": "[encoded data removed]"
          },
          "metadata": {
            "needs_background": "light"
          }
        }
      ]
    },
    {
      "cell_type": "markdown",
      "source": [
        "dari visualisasi tersebut menunjukkan bahwa mayoritas pengguna kartu kredit memiliki masa tenor selama 12 bulan, namun setiap masa tenor memiliki nilai outlier yang cukup signifikan, yang menunjukkan variasi yang cukup besar dalam saldo pengguna. Oleh karena itu, tidak ada korelasi yang jelas antara masa tenor dan saldo pengguna kartu kredit."
      ],
      "metadata": {
        "id": "JTpOXJjnzF-6"
      }
    },
    {
      "cell_type": "markdown",
      "source": [
        "##Data Cleaning"
      ],
      "metadata": {
        "id": "diRNqtti3d0V"
      }
    },
    {
      "cell_type": "markdown",
      "source": [
        "dalam permodelan machine learning, kolom ID tidak diperlukan untuk dimasukan ke dalam permodelan, karena, tidak memberi informasi apapun, jadi sebaiknya di hapus"
      ],
      "metadata": {
        "id": "Z--G6FKD3hUn"
      }
    },
    {
      "cell_type": "code",
      "source": [
        "#menghapus kolom cust_id\n",
        "df.drop('CUST_ID', axis=1, inplace=True)"
      ],
      "metadata": {
        "id": "JQtK9H5B3gqm"
      },
      "execution_count": 25,
      "outputs": []
    },
    {
      "cell_type": "markdown",
      "source": [
        "#VI. Feature Engineering"
      ],
      "metadata": {
        "id": "900W9kV-z7aX"
      }
    },
    {
      "cell_type": "markdown",
      "source": [
        "##Handling Outlier"
      ],
      "metadata": {
        "id": "_BDmVe550ll2"
      }
    },
    {
      "cell_type": "code",
      "source": [
        "# Define function to detect outlier\n",
        "def detect_outlier(data):\n",
        "    outliers = []\n",
        "    threshold = 3\n",
        "    mean = np.mean(data)\n",
        "    std = np.std(data)\n",
        "\n",
        "    for i in data:\n",
        "        z_score = (i - mean) / std\n",
        "        if np.abs(z_score) > threshold:\n",
        "            outliers.append(i)\n",
        "    return outliers\n",
        "\n",
        "# Loop through each column in the dataframe\n",
        "for col in df.columns:\n",
        "    outliers = detect_outlier(df[col])\n",
        "    total = len(df[col])\n",
        "    percentage = round((len(outliers) / total) * 100, 2)\n",
        "\n",
        "    # Check normality\n",
        "    normal, p = normaltest(df[col])\n",
        "    if p < 0.06:\n",
        "        dist = 'Skewed'\n",
        "    else:\n",
        "        dist = 'Normal'\n",
        "\n",
        "    print('Column:', col)\n",
        "    print('Percentage of Outliers:', percentage, '%')\n",
        "    print('Distribution:', dist, '\\n')\n"
      ],
      "metadata": {
        "colab": {
          "base_uri": "https://localhost:8080/"
        },
        "id": "Kv42G0Owz_IN",
        "outputId": "8af787b5-be5b-412d-b883-ff6e173198cd"
      },
      "execution_count": 26,
      "outputs": [
        {
          "output_type": "stream",
          "name": "stdout",
          "text": [
            "Column: BALANCE\n",
            "Percentage of Outliers: 2.28 %\n",
            "Distribution: Skewed \n",
            "\n",
            "Column: BALANCE_FREQUENCY\n",
            "Percentage of Outliers: 1.94 %\n",
            "Distribution: Skewed \n",
            "\n",
            "Column: PURCHASES\n",
            "Percentage of Outliers: 1.41 %\n",
            "Distribution: Skewed \n",
            "\n",
            "Column: ONEOFF_PURCHASES\n",
            "Percentage of Outliers: 1.34 %\n",
            "Distribution: Skewed \n",
            "\n",
            "Column: INSTALLMENTS_PURCHASES\n",
            "Percentage of Outliers: 1.34 %\n",
            "Distribution: Skewed \n",
            "\n",
            "Column: CASH_ADVANCE\n",
            "Percentage of Outliers: 2.08 %\n",
            "Distribution: Skewed \n",
            "\n",
            "Column: PURCHASES_FREQUENCY\n",
            "Percentage of Outliers: 0.0 %\n",
            "Distribution: Skewed \n",
            "\n",
            "Column: ONEOFF_PURCHASES_FREQUENCY\n",
            "Percentage of Outliers: 0.0 %\n",
            "Distribution: Skewed \n",
            "\n",
            "Column: PURCHASES_INSTALLMENTS_FREQUENCY\n",
            "Percentage of Outliers: 0.0 %\n",
            "Distribution: Skewed \n",
            "\n",
            "Column: CASH_ADVANCE_FREQUENCY\n",
            "Percentage of Outliers: 2.28 %\n",
            "Distribution: Skewed \n",
            "\n",
            "Column: CASH_ADVANCE_TRX\n",
            "Percentage of Outliers: 2.19 %\n",
            "Distribution: Skewed \n",
            "\n",
            "Column: PURCHASES_TRX\n",
            "Percentage of Outliers: 2.19 %\n",
            "Distribution: Skewed \n",
            "\n",
            "Column: CREDIT_LIMIT\n",
            "Percentage of Outliers: 1.77 %\n",
            "Distribution: Normal \n",
            "\n",
            "Column: PAYMENTS\n",
            "Percentage of Outliers: 1.79 %\n",
            "Distribution: Skewed \n",
            "\n",
            "Column: MINIMUM_PAYMENTS\n",
            "Percentage of Outliers: 1.14 %\n",
            "Distribution: Normal \n",
            "\n",
            "Column: PRC_FULL_PAYMENT\n",
            "Percentage of Outliers: 0.0 %\n",
            "Distribution: Skewed \n",
            "\n",
            "Column: TENURE\n",
            "Percentage of Outliers: 4.54 %\n",
            "Distribution: Skewed \n",
            "\n"
          ]
        }
      ]
    },
    {
      "cell_type": "markdown",
      "source": [
        "setelah di deteksi outlier, ada beberapa yg sudah terhandle dan ada juga yg masih terdapat outlier\n",
        "\n",
        "kolom yg memiliki distribusi skew dan belum terhandling : \n",
        "- BALANCE\n",
        "- BALANCE_FREQUENCY\n",
        "- PURCHASES\n",
        "- ONEOFF_PURCHASES\n",
        "- INSTALLMENTS_PURCHASES\n",
        "- CASH_ADVANCE\n",
        "- CASH_ADVANCE_FREQUENCY\n",
        "- CASH_ADVANCE_TRX\n",
        "- PURCHASES_TRX\n",
        "- PAYMENTS\n",
        "\n",
        "kolom yg memiliki distribusi normal dan belum terhandling :\n",
        "- CREDIT_LIMIT\n",
        "- MINIMUM_PAYMENTS"
      ],
      "metadata": {
        "id": "cy0WnPah_xy7"
      }
    },
    {
      "cell_type": "markdown",
      "source": [
        "###Handling Outlier using Gaussian method for Normal Distribution"
      ],
      "metadata": {
        "id": "oUE7_TwsDLIb"
      }
    },
    {
      "cell_type": "code",
      "source": [
        "#menghandle outlier untuk data yg distribusi normal\n",
        "def count_outliers_gaussian(df, col_name):\n",
        "    col_mean, col_std = df[col_name].mean(), df[col_name].std()\n",
        "  \n",
        "    cut_off = col_std * 7\n",
        "    lower, upper = col_mean - cut_off, col_mean + cut_off\n",
        "    num_outliers = len(df[(df[col_name] < lower) | (df[col_name] > upper)])\n",
        "    percentage_outliers = (num_outliers / len(df)) * 100\n",
        "    \n",
        "    return percentage_outliers"
      ],
      "metadata": {
        "id": "APPfZNMD5PZb"
      },
      "execution_count": 27,
      "outputs": []
    },
    {
      "cell_type": "code",
      "source": [
        "#melihat presentase outlier yg sudah di handle\n",
        "outlier_percentage = count_outliers_gaussian(df, 'CREDIT_LIMIT')\n",
        "print(f'Presentase outlier pada kolom CREDIT_LIMIT adalah {outlier_percentage:.2f}%')"
      ],
      "metadata": {
        "colab": {
          "base_uri": "https://localhost:8080/"
        },
        "id": "FO5E-ddODebl",
        "outputId": "2a0b09fc-a751-4fff-dcf2-94ea2795c8ae"
      },
      "execution_count": 28,
      "outputs": [
        {
          "output_type": "stream",
          "name": "stdout",
          "text": [
            "Presentase outlier pada kolom CREDIT_LIMIT adalah 0.00%\n"
          ]
        }
      ]
    },
    {
      "cell_type": "code",
      "source": [
        "#melihat presentase outlier yg sudah di handle\n",
        "#outlier_percentage = count_outliers_gaussian(df, 'MINIMUM_PAYMENTS')\n",
        "#print(f'Presentase outlier pada kolom MINIMUM_PAYMENTS adalah {outlier_percentage:.2f}%')"
      ],
      "metadata": {
        "id": "aRKgqdDeDnQo"
      },
      "execution_count": 29,
      "outputs": []
    },
    {
      "cell_type": "markdown",
      "source": [
        "masih terdapat outlier dikolom MINIMUM_PAYMENTS"
      ],
      "metadata": {
        "id": "Ooodc8t3Qj7k"
      }
    },
    {
      "cell_type": "code",
      "source": [
        "#menggunakan capping untuk kolom 'MINIMUM_PAYMENTS'\n",
        "mean = df['MINIMUM_PAYMENTS'].mean()\n",
        "std = df['MINIMUM_PAYMENTS'].std()\n",
        "\n",
        "\n",
        "upper_boundary = mean + 3*std\n",
        "lower_boundary = mean - 3*std\n",
        "\n",
        "\n",
        "df['MINIMUM_PAYMENTS'] = np.where(df['MINIMUM_PAYMENTS'] > upper_boundary, upper_boundary, df['MINIMUM_PAYMENTS'])\n",
        "outlier_percentage = (len(df[df['MINIMUM_PAYMENTS'] < lower_boundary]) + len(df[df['MINIMUM_PAYMENTS'] > upper_boundary])) / len(df) * 100\n",
        "print('Percentage of outliers after capping: ', outlier_percentage, '%')"
      ],
      "metadata": {
        "colab": {
          "base_uri": "https://localhost:8080/"
        },
        "id": "FzEfp7Ted7UB",
        "outputId": "308c9490-be41-41aa-c3bc-0da3baf68b47"
      },
      "execution_count": 30,
      "outputs": [
        {
          "output_type": "stream",
          "name": "stdout",
          "text": [
            "Percentage of outliers after capping:  0.0 %\n"
          ]
        }
      ]
    },
    {
      "cell_type": "markdown",
      "source": [
        "####Handling Outlier for skewed variables using winsorizing"
      ],
      "metadata": {
        "id": "anbJJtH9RIin"
      }
    },
    {
      "cell_type": "code",
      "source": [
        "#groupping data\n",
        "outlier = df[['BALANCE', 'BALANCE_FREQUENCY', 'PURCHASES', 'ONEOFF_PURCHASES', 'INSTALLMENTS_PURCHASES',\n",
        "              'CASH_ADVANCE', 'CASH_ADVANCE_FREQUENCY', 'CASH_ADVANCE_TRX', 'PURCHASES_TRX', 'PAYMENTS']]\n",
        "outlier.head()"
      ],
      "metadata": {
        "colab": {
          "base_uri": "https://localhost:8080/",
          "height": 270
        },
        "id": "uhSZtIB2Dyje",
        "outputId": "d7bc50da-4635-4398-a76d-9b47d9060b4a"
      },
      "execution_count": 31,
      "outputs": [
        {
          "output_type": "execute_result",
          "data": {
            "text/plain": [
              "       BALANCE  BALANCE_FREQUENCY  PURCHASES  ONEOFF_PURCHASES  \\\n",
              "0    16.581535              0.125      200.0               0.0   \n",
              "1   943.584041              0.875      103.0             103.0   \n",
              "2     1.979916              0.125       80.0              80.0   \n",
              "3   461.455720              1.000      585.0             585.0   \n",
              "4  1053.594730              1.000     1450.0            1450.0   \n",
              "\n",
              "   INSTALLMENTS_PURCHASES  CASH_ADVANCE  CASH_ADVANCE_FREQUENCY  \\\n",
              "0                   200.0           0.0                     0.0   \n",
              "1                     0.0           0.0                     0.0   \n",
              "2                     0.0           0.0                     0.0   \n",
              "3                     0.0           0.0                     0.0   \n",
              "4                     0.0           0.0                     0.0   \n",
              "\n",
              "   CASH_ADVANCE_TRX  PURCHASES_TRX    PAYMENTS  \n",
              "0                 0              2    0.000000  \n",
              "1                 0              1  215.325023  \n",
              "2                 0              1    0.000000  \n",
              "3                 0              1  258.032630  \n",
              "4                 0              1  397.090516  "
            ],
            "text/html": [
              "\n",
              "  <div id=\"df-1cd18be4-2ad8-4626-b055-ff9f60586027\">\n",
              "    <div class=\"colab-df-container\">\n",
              "      <div>\n",
              "<style scoped>\n",
              "    .dataframe tbody tr th:only-of-type {\n",
              "        vertical-align: middle;\n",
              "    }\n",
              "\n",
              "    .dataframe tbody tr th {\n",
              "        vertical-align: top;\n",
              "    }\n",
              "\n",
              "    .dataframe thead th {\n",
              "        text-align: right;\n",
              "    }\n",
              "</style>\n",
              "<table border=\"1\" class=\"dataframe\">\n",
              "  <thead>\n",
              "    <tr style=\"text-align: right;\">\n",
              "      <th></th>\n",
              "      <th>BALANCE</th>\n",
              "      <th>BALANCE_FREQUENCY</th>\n",
              "      <th>PURCHASES</th>\n",
              "      <th>ONEOFF_PURCHASES</th>\n",
              "      <th>INSTALLMENTS_PURCHASES</th>\n",
              "      <th>CASH_ADVANCE</th>\n",
              "      <th>CASH_ADVANCE_FREQUENCY</th>\n",
              "      <th>CASH_ADVANCE_TRX</th>\n",
              "      <th>PURCHASES_TRX</th>\n",
              "      <th>PAYMENTS</th>\n",
              "    </tr>\n",
              "  </thead>\n",
              "  <tbody>\n",
              "    <tr>\n",
              "      <th>0</th>\n",
              "      <td>16.581535</td>\n",
              "      <td>0.125</td>\n",
              "      <td>200.0</td>\n",
              "      <td>0.0</td>\n",
              "      <td>200.0</td>\n",
              "      <td>0.0</td>\n",
              "      <td>0.0</td>\n",
              "      <td>0</td>\n",
              "      <td>2</td>\n",
              "      <td>0.000000</td>\n",
              "    </tr>\n",
              "    <tr>\n",
              "      <th>1</th>\n",
              "      <td>943.584041</td>\n",
              "      <td>0.875</td>\n",
              "      <td>103.0</td>\n",
              "      <td>103.0</td>\n",
              "      <td>0.0</td>\n",
              "      <td>0.0</td>\n",
              "      <td>0.0</td>\n",
              "      <td>0</td>\n",
              "      <td>1</td>\n",
              "      <td>215.325023</td>\n",
              "    </tr>\n",
              "    <tr>\n",
              "      <th>2</th>\n",
              "      <td>1.979916</td>\n",
              "      <td>0.125</td>\n",
              "      <td>80.0</td>\n",
              "      <td>80.0</td>\n",
              "      <td>0.0</td>\n",
              "      <td>0.0</td>\n",
              "      <td>0.0</td>\n",
              "      <td>0</td>\n",
              "      <td>1</td>\n",
              "      <td>0.000000</td>\n",
              "    </tr>\n",
              "    <tr>\n",
              "      <th>3</th>\n",
              "      <td>461.455720</td>\n",
              "      <td>1.000</td>\n",
              "      <td>585.0</td>\n",
              "      <td>585.0</td>\n",
              "      <td>0.0</td>\n",
              "      <td>0.0</td>\n",
              "      <td>0.0</td>\n",
              "      <td>0</td>\n",
              "      <td>1</td>\n",
              "      <td>258.032630</td>\n",
              "    </tr>\n",
              "    <tr>\n",
              "      <th>4</th>\n",
              "      <td>1053.594730</td>\n",
              "      <td>1.000</td>\n",
              "      <td>1450.0</td>\n",
              "      <td>1450.0</td>\n",
              "      <td>0.0</td>\n",
              "      <td>0.0</td>\n",
              "      <td>0.0</td>\n",
              "      <td>0</td>\n",
              "      <td>1</td>\n",
              "      <td>397.090516</td>\n",
              "    </tr>\n",
              "  </tbody>\n",
              "</table>\n",
              "</div>\n",
              "      <button class=\"colab-df-convert\" onclick=\"convertToInteractive('df-1cd18be4-2ad8-4626-b055-ff9f60586027')\"\n",
              "              title=\"Convert this dataframe to an interactive table.\"\n",
              "              style=\"display:none;\">\n",
              "        \n",
              "  <svg xmlns=\"http://www.w3.org/2000/svg\" height=\"24px\"viewBox=\"0 0 24 24\"\n",
              "       width=\"24px\">\n",
              "    <path d=\"M0 0h24v24H0V0z\" fill=\"none\"/>\n",
              "    <path d=\"M18.56 5.44l.94 2.06.94-2.06 2.06-.94-2.06-.94-.94-2.06-.94 2.06-2.06.94zm-11 1L8.5 8.5l.94-2.06 2.06-.94-2.06-.94L8.5 2.5l-.94 2.06-2.06.94zm10 10l.94 2.06.94-2.06 2.06-.94-2.06-.94-.94-2.06-.94 2.06-2.06.94z\"/><path d=\"M17.41 7.96l-1.37-1.37c-.4-.4-.92-.59-1.43-.59-.52 0-1.04.2-1.43.59L10.3 9.45l-7.72 7.72c-.78.78-.78 2.05 0 2.83L4 21.41c.39.39.9.59 1.41.59.51 0 1.02-.2 1.41-.59l7.78-7.78 2.81-2.81c.8-.78.8-2.07 0-2.86zM5.41 20L4 18.59l7.72-7.72 1.47 1.35L5.41 20z\"/>\n",
              "  </svg>\n",
              "      </button>\n",
              "      \n",
              "  <style>\n",
              "    .colab-df-container {\n",
              "      display:flex;\n",
              "      flex-wrap:wrap;\n",
              "      gap: 12px;\n",
              "    }\n",
              "\n",
              "    .colab-df-convert {\n",
              "      background-color: #E8F0FE;\n",
              "      border: none;\n",
              "      border-radius: 50%;\n",
              "      cursor: pointer;\n",
              "      display: none;\n",
              "      fill: #1967D2;\n",
              "      height: 32px;\n",
              "      padding: 0 0 0 0;\n",
              "      width: 32px;\n",
              "    }\n",
              "\n",
              "    .colab-df-convert:hover {\n",
              "      background-color: #E2EBFA;\n",
              "      box-shadow: 0px 1px 2px rgba(60, 64, 67, 0.3), 0px 1px 3px 1px rgba(60, 64, 67, 0.15);\n",
              "      fill: #174EA6;\n",
              "    }\n",
              "\n",
              "    [theme=dark] .colab-df-convert {\n",
              "      background-color: #3B4455;\n",
              "      fill: #D2E3FC;\n",
              "    }\n",
              "\n",
              "    [theme=dark] .colab-df-convert:hover {\n",
              "      background-color: #434B5C;\n",
              "      box-shadow: 0px 1px 3px 1px rgba(0, 0, 0, 0.15);\n",
              "      filter: drop-shadow(0px 1px 2px rgba(0, 0, 0, 0.3));\n",
              "      fill: #FFFFFF;\n",
              "    }\n",
              "  </style>\n",
              "\n",
              "      <script>\n",
              "        const buttonEl =\n",
              "          document.querySelector('#df-1cd18be4-2ad8-4626-b055-ff9f60586027 button.colab-df-convert');\n",
              "        buttonEl.style.display =\n",
              "          google.colab.kernel.accessAllowed ? 'block' : 'none';\n",
              "\n",
              "        async function convertToInteractive(key) {\n",
              "          const element = document.querySelector('#df-1cd18be4-2ad8-4626-b055-ff9f60586027');\n",
              "          const dataTable =\n",
              "            await google.colab.kernel.invokeFunction('convertToInteractive',\n",
              "                                                     [key], {});\n",
              "          if (!dataTable) return;\n",
              "\n",
              "          const docLinkHtml = 'Like what you see? Visit the ' +\n",
              "            '<a target=\"_blank\" href=https://colab.research.google.com/notebooks/data_table.ipynb>data table notebook</a>'\n",
              "            + ' to learn more about interactive tables.';\n",
              "          element.innerHTML = '';\n",
              "          dataTable['output_type'] = 'display_data';\n",
              "          await google.colab.output.renderOutput(dataTable, element);\n",
              "          const docLink = document.createElement('div');\n",
              "          docLink.innerHTML = docLinkHtml;\n",
              "          element.appendChild(docLink);\n",
              "        }\n",
              "      </script>\n",
              "    </div>\n",
              "  </div>\n",
              "  "
            ]
          },
          "metadata": {},
          "execution_count": 31
        }
      ]
    },
    {
      "cell_type": "code",
      "source": [
        "#menggunakan winsorizer\n",
        "for col in outlier:\n",
        "    winsoriserdf = Winsorizer(capping_method='iqr', tail='both', fold=1.5, variables=['BALANCE', 'BALANCE_FREQUENCY', 'PURCHASES', \n",
        "                                                                                      'ONEOFF_PURCHASES', 'INSTALLMENTS_PURCHASES',\n",
        "                                                                                      'CASH_ADVANCE', 'CASH_ADVANCE_FREQUENCY', \n",
        "                                                                                      'CASH_ADVANCE_TRX', 'PURCHASES_TRX', 'PAYMENTS'])\n",
        "\n",
        "winsoriserdf.fit(outlier)\n",
        "outlierdf = winsoriserdf.transform(outlier)"
      ],
      "metadata": {
        "id": "IffathF9R3AA"
      },
      "execution_count": 32,
      "outputs": []
    },
    {
      "cell_type": "code",
      "source": [
        "# Inspect the minimum caps for each variable\n",
        "print('Left Tail Caps  : ', winsoriserdf.left_tail_caps_)\n",
        "\n",
        "# Iinspect the maximum caps for each variable\n",
        "print('Right Tail Caps : ', winsoriserdf.right_tail_caps_)"
      ],
      "metadata": {
        "colab": {
          "base_uri": "https://localhost:8080/"
        },
        "id": "AN4SFzeSdIRu",
        "outputId": "f1b8ba14-3568-4bd3-a425-cea8021cae7e"
      },
      "execution_count": 33,
      "outputs": [
        {
          "output_type": "stream",
          "name": "stdout",
          "text": [
            "Left Tail Caps  :  {'BALANCE': -2756.437862, 'BALANCE_FREQUENCY': 0.7222225000000001, 'PURCHASES': -1583.7974999999997, 'ONEOFF_PURCHASES': -870.48, 'INSTALLMENTS_PURCHASES': -726.3824999999999, 'CASH_ADVANCE': -1647.854943, 'CASH_ADVANCE_FREQUENCY': -0.272727, 'CASH_ADVANCE_TRX': -6.0, 'PURCHASES_TRX': -23.0, 'PAYMENTS': -1868.422577}\n",
            "Right Tail Caps :  {'BALANCE': 4947.493378, 'BALANCE_FREQUENCY': 1.1666664999999998, 'PURCHASES': 2746.5024999999996, 'ONEOFF_PURCHASES': 1450.8000000000002, 'INSTALLMENTS_PURCHASES': 1210.6374999999998, 'CASH_ADVANCE': 2746.424905, 'CASH_ADVANCE_FREQUENCY': 0.454545, 'CASH_ADVANCE_TRX': 10.0, 'PURCHASES_TRX': 41.0, 'PAYMENTS': 4154.5879509999995}\n"
          ]
        }
      ]
    },
    {
      "cell_type": "code",
      "source": [
        "#transofmasi kolom X_train\n",
        "df_new = winsoriserdf.fit_transform(df)"
      ],
      "metadata": {
        "id": "6MEYvlR9fwwL"
      },
      "execution_count": 34,
      "outputs": []
    },
    {
      "cell_type": "markdown",
      "source": [
        "##Handling Missing Value"
      ],
      "metadata": {
        "id": "kdtJSzfygFbM"
      }
    },
    {
      "cell_type": "code",
      "source": [
        "df_new.isnull().sum()"
      ],
      "metadata": {
        "colab": {
          "base_uri": "https://localhost:8080/"
        },
        "id": "NyXR4zuEgGWJ",
        "outputId": "f3f9a476-3ddc-4740-8266-fdb4bd366491"
      },
      "execution_count": 35,
      "outputs": [
        {
          "output_type": "execute_result",
          "data": {
            "text/plain": [
              "BALANCE                               0\n",
              "BALANCE_FREQUENCY                     0\n",
              "PURCHASES                             0\n",
              "ONEOFF_PURCHASES                      0\n",
              "INSTALLMENTS_PURCHASES                0\n",
              "CASH_ADVANCE                          0\n",
              "PURCHASES_FREQUENCY                   0\n",
              "ONEOFF_PURCHASES_FREQUENCY            0\n",
              "PURCHASES_INSTALLMENTS_FREQUENCY      0\n",
              "CASH_ADVANCE_FREQUENCY                0\n",
              "CASH_ADVANCE_TRX                      0\n",
              "PURCHASES_TRX                         0\n",
              "CREDIT_LIMIT                          1\n",
              "PAYMENTS                              0\n",
              "MINIMUM_PAYMENTS                    158\n",
              "PRC_FULL_PAYMENT                      0\n",
              "TENURE                                0\n",
              "dtype: int64"
            ]
          },
          "metadata": {},
          "execution_count": 35
        }
      ]
    },
    {
      "cell_type": "markdown",
      "source": [
        "terdapat missing value di kolom minimum_payments(158) dan credit_limit(1), maka akan menggunakan chi-square untuk menguji apakah missing data pada df termasuk MCAR atau tidak"
      ],
      "metadata": {
        "id": "GwTmfVu3g-Rt"
      }
    },
    {
      "cell_type": "code",
      "source": [
        "# membuat variabel dummy untuk missing value\n",
        "missing_dummy = pd.isnull(df_new[['CREDIT_LIMIT', 'MINIMUM_PAYMENTS']]).astype(int)"
      ],
      "metadata": {
        "id": "qCWGJFbTgq_5"
      },
      "execution_count": 36,
      "outputs": []
    },
    {
      "cell_type": "code",
      "source": [
        "# membuat tabel kontingensi\n",
        "contingency_table = pd.crosstab(missing_dummy['CREDIT_LIMIT'], missing_dummy['MINIMUM_PAYMENTS'])\n",
        "contingency_table"
      ],
      "metadata": {
        "colab": {
          "base_uri": "https://localhost:8080/",
          "height": 143
        },
        "id": "9faolrTLki6n",
        "outputId": "16d6b9a2-6626-4cee-91fa-b0a515e86224"
      },
      "execution_count": 37,
      "outputs": [
        {
          "output_type": "execute_result",
          "data": {
            "text/plain": [
              "MINIMUM_PAYMENTS     0    1\n",
              "CREDIT_LIMIT               \n",
              "0                 4316  158\n",
              "1                    1    0"
            ],
            "text/html": [
              "\n",
              "  <div id=\"df-e95f22ac-a41a-450a-a67e-a4b85cd299f4\">\n",
              "    <div class=\"colab-df-container\">\n",
              "      <div>\n",
              "<style scoped>\n",
              "    .dataframe tbody tr th:only-of-type {\n",
              "        vertical-align: middle;\n",
              "    }\n",
              "\n",
              "    .dataframe tbody tr th {\n",
              "        vertical-align: top;\n",
              "    }\n",
              "\n",
              "    .dataframe thead th {\n",
              "        text-align: right;\n",
              "    }\n",
              "</style>\n",
              "<table border=\"1\" class=\"dataframe\">\n",
              "  <thead>\n",
              "    <tr style=\"text-align: right;\">\n",
              "      <th>MINIMUM_PAYMENTS</th>\n",
              "      <th>0</th>\n",
              "      <th>1</th>\n",
              "    </tr>\n",
              "    <tr>\n",
              "      <th>CREDIT_LIMIT</th>\n",
              "      <th></th>\n",
              "      <th></th>\n",
              "    </tr>\n",
              "  </thead>\n",
              "  <tbody>\n",
              "    <tr>\n",
              "      <th>0</th>\n",
              "      <td>4316</td>\n",
              "      <td>158</td>\n",
              "    </tr>\n",
              "    <tr>\n",
              "      <th>1</th>\n",
              "      <td>1</td>\n",
              "      <td>0</td>\n",
              "    </tr>\n",
              "  </tbody>\n",
              "</table>\n",
              "</div>\n",
              "      <button class=\"colab-df-convert\" onclick=\"convertToInteractive('df-e95f22ac-a41a-450a-a67e-a4b85cd299f4')\"\n",
              "              title=\"Convert this dataframe to an interactive table.\"\n",
              "              style=\"display:none;\">\n",
              "        \n",
              "  <svg xmlns=\"http://www.w3.org/2000/svg\" height=\"24px\"viewBox=\"0 0 24 24\"\n",
              "       width=\"24px\">\n",
              "    <path d=\"M0 0h24v24H0V0z\" fill=\"none\"/>\n",
              "    <path d=\"M18.56 5.44l.94 2.06.94-2.06 2.06-.94-2.06-.94-.94-2.06-.94 2.06-2.06.94zm-11 1L8.5 8.5l.94-2.06 2.06-.94-2.06-.94L8.5 2.5l-.94 2.06-2.06.94zm10 10l.94 2.06.94-2.06 2.06-.94-2.06-.94-.94-2.06-.94 2.06-2.06.94z\"/><path d=\"M17.41 7.96l-1.37-1.37c-.4-.4-.92-.59-1.43-.59-.52 0-1.04.2-1.43.59L10.3 9.45l-7.72 7.72c-.78.78-.78 2.05 0 2.83L4 21.41c.39.39.9.59 1.41.59.51 0 1.02-.2 1.41-.59l7.78-7.78 2.81-2.81c.8-.78.8-2.07 0-2.86zM5.41 20L4 18.59l7.72-7.72 1.47 1.35L5.41 20z\"/>\n",
              "  </svg>\n",
              "      </button>\n",
              "      \n",
              "  <style>\n",
              "    .colab-df-container {\n",
              "      display:flex;\n",
              "      flex-wrap:wrap;\n",
              "      gap: 12px;\n",
              "    }\n",
              "\n",
              "    .colab-df-convert {\n",
              "      background-color: #E8F0FE;\n",
              "      border: none;\n",
              "      border-radius: 50%;\n",
              "      cursor: pointer;\n",
              "      display: none;\n",
              "      fill: #1967D2;\n",
              "      height: 32px;\n",
              "      padding: 0 0 0 0;\n",
              "      width: 32px;\n",
              "    }\n",
              "\n",
              "    .colab-df-convert:hover {\n",
              "      background-color: #E2EBFA;\n",
              "      box-shadow: 0px 1px 2px rgba(60, 64, 67, 0.3), 0px 1px 3px 1px rgba(60, 64, 67, 0.15);\n",
              "      fill: #174EA6;\n",
              "    }\n",
              "\n",
              "    [theme=dark] .colab-df-convert {\n",
              "      background-color: #3B4455;\n",
              "      fill: #D2E3FC;\n",
              "    }\n",
              "\n",
              "    [theme=dark] .colab-df-convert:hover {\n",
              "      background-color: #434B5C;\n",
              "      box-shadow: 0px 1px 3px 1px rgba(0, 0, 0, 0.15);\n",
              "      filter: drop-shadow(0px 1px 2px rgba(0, 0, 0, 0.3));\n",
              "      fill: #FFFFFF;\n",
              "    }\n",
              "  </style>\n",
              "\n",
              "      <script>\n",
              "        const buttonEl =\n",
              "          document.querySelector('#df-e95f22ac-a41a-450a-a67e-a4b85cd299f4 button.colab-df-convert');\n",
              "        buttonEl.style.display =\n",
              "          google.colab.kernel.accessAllowed ? 'block' : 'none';\n",
              "\n",
              "        async function convertToInteractive(key) {\n",
              "          const element = document.querySelector('#df-e95f22ac-a41a-450a-a67e-a4b85cd299f4');\n",
              "          const dataTable =\n",
              "            await google.colab.kernel.invokeFunction('convertToInteractive',\n",
              "                                                     [key], {});\n",
              "          if (!dataTable) return;\n",
              "\n",
              "          const docLinkHtml = 'Like what you see? Visit the ' +\n",
              "            '<a target=\"_blank\" href=https://colab.research.google.com/notebooks/data_table.ipynb>data table notebook</a>'\n",
              "            + ' to learn more about interactive tables.';\n",
              "          element.innerHTML = '';\n",
              "          dataTable['output_type'] = 'display_data';\n",
              "          await google.colab.output.renderOutput(dataTable, element);\n",
              "          const docLink = document.createElement('div');\n",
              "          docLink.innerHTML = docLinkHtml;\n",
              "          element.appendChild(docLink);\n",
              "        }\n",
              "      </script>\n",
              "    </div>\n",
              "  </div>\n",
              "  "
            ]
          },
          "metadata": {},
          "execution_count": 37
        }
      ]
    },
    {
      "cell_type": "code",
      "source": [
        "# melakukan uji chi-square\n",
        "chi2, p, dof, expected = chi2_contingency(contingency_table)\n",
        "# menampilkan hasil uji chi-square\n",
        "print('Chi-square statistic:', chi2)\n",
        "print('p-value:', p)"
      ],
      "metadata": {
        "colab": {
          "base_uri": "https://localhost:8080/"
        },
        "id": "_SBTpxolkk_Z",
        "outputId": "402fcdba-131e-4f53-8e6a-083cad387ec9"
      },
      "execution_count": 38,
      "outputs": [
        {
          "output_type": "stream",
          "name": "stdout",
          "text": [
            "Chi-square statistic: 0.0\n",
            "p-value: 1.0\n"
          ]
        }
      ]
    },
    {
      "cell_type": "markdown",
      "source": [
        "hasil uji chi-square menunjukkan bahwa p-value = 1.0, artinya tidak terdapat hubungan yang signifikan antara missing value pada kolom CREDIT_LIMIT dengan missing value pada kolom MINIMUM_PAYMENTS. Hal ini menunjukkan bahwa missing value pada kedua kolom tersebut dapat dianggap sebagai Missing Completely At Random (MCAR)."
      ],
      "metadata": {
        "id": "NQV8PbJClKP1"
      }
    },
    {
      "cell_type": "code",
      "source": [
        "# imputasi nilai median pada kolom CREDIT_LIMIT dan MINIMUM_PAYMENTS\n",
        "credit_limit_median = df_new['CREDIT_LIMIT'].median()\n",
        "df_new['CREDIT_LIMIT'] = df_new['CREDIT_LIMIT'].fillna(credit_limit_median)\n",
        "minimum_payments_median = df_new['MINIMUM_PAYMENTS'].median()\n",
        "df_new['MINIMUM_PAYMENTS'] = df_new['MINIMUM_PAYMENTS'].fillna(minimum_payments_median)"
      ],
      "metadata": {
        "id": "M7KMkhA0kuGl"
      },
      "execution_count": 39,
      "outputs": []
    },
    {
      "cell_type": "markdown",
      "source": [
        "##Feature Scaling"
      ],
      "metadata": {
        "id": "AM1AJjh-l1ib"
      }
    },
    {
      "cell_type": "markdown",
      "source": [
        "menggunakan min-max scaler karena dari awal datanya skew"
      ],
      "metadata": {
        "id": "TWA_ARRmnFJJ"
      }
    },
    {
      "cell_type": "code",
      "source": [
        "#scaling data\n",
        "scaler = MinMaxScaler()\n",
        "df_scaled = scaler.fit_transform(df_new)"
      ],
      "metadata": {
        "id": "Yx7kbWiWnERL"
      },
      "execution_count": 40,
      "outputs": []
    },
    {
      "cell_type": "code",
      "source": [
        "# menghitung VIF setiap fitur pada data\n",
        "vif = pd.DataFrame()\n",
        "vif[\"VIF Factor\"] = [variance_inflation_factor(df_scaled, i) for i in range(df_scaled.shape[1])]\n",
        "vif[\"features\"] = df.columns\n",
        "vif"
      ],
      "metadata": {
        "colab": {
          "base_uri": "https://localhost:8080/",
          "height": 582
        },
        "id": "f5AhjJP8PMys",
        "outputId": "06abe420-5d97-4c47-e2db-5919a4e34be5"
      },
      "execution_count": 41,
      "outputs": [
        {
          "output_type": "execute_result",
          "data": {
            "text/plain": [
              "    VIF Factor                          features\n",
              "0     5.983915                           BALANCE\n",
              "1     6.679406                 BALANCE_FREQUENCY\n",
              "2    27.506526                         PURCHASES\n",
              "3    15.090554                  ONEOFF_PURCHASES\n",
              "4    11.476211            INSTALLMENTS_PURCHASES\n",
              "5     5.067529                      CASH_ADVANCE\n",
              "6    25.052041               PURCHASES_FREQUENCY\n",
              "7     8.743877        ONEOFF_PURCHASES_FREQUENCY\n",
              "8    21.905710  PURCHASES_INSTALLMENTS_FREQUENCY\n",
              "9    12.071694            CASH_ADVANCE_FREQUENCY\n",
              "10   12.452134                  CASH_ADVANCE_TRX\n",
              "11   11.097695                     PURCHASES_TRX\n",
              "12    4.180241                      CREDIT_LIMIT\n",
              "13    4.276913                          PAYMENTS\n",
              "14    2.285463                  MINIMUM_PAYMENTS\n",
              "15    1.793373                  PRC_FULL_PAYMENT\n",
              "16    6.741739                            TENURE"
            ],
            "text/html": [
              "\n",
              "  <div id=\"df-faa746f9-f5d9-4dd0-91f7-50a016d7ea0f\">\n",
              "    <div class=\"colab-df-container\">\n",
              "      <div>\n",
              "<style scoped>\n",
              "    .dataframe tbody tr th:only-of-type {\n",
              "        vertical-align: middle;\n",
              "    }\n",
              "\n",
              "    .dataframe tbody tr th {\n",
              "        vertical-align: top;\n",
              "    }\n",
              "\n",
              "    .dataframe thead th {\n",
              "        text-align: right;\n",
              "    }\n",
              "</style>\n",
              "<table border=\"1\" class=\"dataframe\">\n",
              "  <thead>\n",
              "    <tr style=\"text-align: right;\">\n",
              "      <th></th>\n",
              "      <th>VIF Factor</th>\n",
              "      <th>features</th>\n",
              "    </tr>\n",
              "  </thead>\n",
              "  <tbody>\n",
              "    <tr>\n",
              "      <th>0</th>\n",
              "      <td>5.983915</td>\n",
              "      <td>BALANCE</td>\n",
              "    </tr>\n",
              "    <tr>\n",
              "      <th>1</th>\n",
              "      <td>6.679406</td>\n",
              "      <td>BALANCE_FREQUENCY</td>\n",
              "    </tr>\n",
              "    <tr>\n",
              "      <th>2</th>\n",
              "      <td>27.506526</td>\n",
              "      <td>PURCHASES</td>\n",
              "    </tr>\n",
              "    <tr>\n",
              "      <th>3</th>\n",
              "      <td>15.090554</td>\n",
              "      <td>ONEOFF_PURCHASES</td>\n",
              "    </tr>\n",
              "    <tr>\n",
              "      <th>4</th>\n",
              "      <td>11.476211</td>\n",
              "      <td>INSTALLMENTS_PURCHASES</td>\n",
              "    </tr>\n",
              "    <tr>\n",
              "      <th>5</th>\n",
              "      <td>5.067529</td>\n",
              "      <td>CASH_ADVANCE</td>\n",
              "    </tr>\n",
              "    <tr>\n",
              "      <th>6</th>\n",
              "      <td>25.052041</td>\n",
              "      <td>PURCHASES_FREQUENCY</td>\n",
              "    </tr>\n",
              "    <tr>\n",
              "      <th>7</th>\n",
              "      <td>8.743877</td>\n",
              "      <td>ONEOFF_PURCHASES_FREQUENCY</td>\n",
              "    </tr>\n",
              "    <tr>\n",
              "      <th>8</th>\n",
              "      <td>21.905710</td>\n",
              "      <td>PURCHASES_INSTALLMENTS_FREQUENCY</td>\n",
              "    </tr>\n",
              "    <tr>\n",
              "      <th>9</th>\n",
              "      <td>12.071694</td>\n",
              "      <td>CASH_ADVANCE_FREQUENCY</td>\n",
              "    </tr>\n",
              "    <tr>\n",
              "      <th>10</th>\n",
              "      <td>12.452134</td>\n",
              "      <td>CASH_ADVANCE_TRX</td>\n",
              "    </tr>\n",
              "    <tr>\n",
              "      <th>11</th>\n",
              "      <td>11.097695</td>\n",
              "      <td>PURCHASES_TRX</td>\n",
              "    </tr>\n",
              "    <tr>\n",
              "      <th>12</th>\n",
              "      <td>4.180241</td>\n",
              "      <td>CREDIT_LIMIT</td>\n",
              "    </tr>\n",
              "    <tr>\n",
              "      <th>13</th>\n",
              "      <td>4.276913</td>\n",
              "      <td>PAYMENTS</td>\n",
              "    </tr>\n",
              "    <tr>\n",
              "      <th>14</th>\n",
              "      <td>2.285463</td>\n",
              "      <td>MINIMUM_PAYMENTS</td>\n",
              "    </tr>\n",
              "    <tr>\n",
              "      <th>15</th>\n",
              "      <td>1.793373</td>\n",
              "      <td>PRC_FULL_PAYMENT</td>\n",
              "    </tr>\n",
              "    <tr>\n",
              "      <th>16</th>\n",
              "      <td>6.741739</td>\n",
              "      <td>TENURE</td>\n",
              "    </tr>\n",
              "  </tbody>\n",
              "</table>\n",
              "</div>\n",
              "      <button class=\"colab-df-convert\" onclick=\"convertToInteractive('df-faa746f9-f5d9-4dd0-91f7-50a016d7ea0f')\"\n",
              "              title=\"Convert this dataframe to an interactive table.\"\n",
              "              style=\"display:none;\">\n",
              "        \n",
              "  <svg xmlns=\"http://www.w3.org/2000/svg\" height=\"24px\"viewBox=\"0 0 24 24\"\n",
              "       width=\"24px\">\n",
              "    <path d=\"M0 0h24v24H0V0z\" fill=\"none\"/>\n",
              "    <path d=\"M18.56 5.44l.94 2.06.94-2.06 2.06-.94-2.06-.94-.94-2.06-.94 2.06-2.06.94zm-11 1L8.5 8.5l.94-2.06 2.06-.94-2.06-.94L8.5 2.5l-.94 2.06-2.06.94zm10 10l.94 2.06.94-2.06 2.06-.94-2.06-.94-.94-2.06-.94 2.06-2.06.94z\"/><path d=\"M17.41 7.96l-1.37-1.37c-.4-.4-.92-.59-1.43-.59-.52 0-1.04.2-1.43.59L10.3 9.45l-7.72 7.72c-.78.78-.78 2.05 0 2.83L4 21.41c.39.39.9.59 1.41.59.51 0 1.02-.2 1.41-.59l7.78-7.78 2.81-2.81c.8-.78.8-2.07 0-2.86zM5.41 20L4 18.59l7.72-7.72 1.47 1.35L5.41 20z\"/>\n",
              "  </svg>\n",
              "      </button>\n",
              "      \n",
              "  <style>\n",
              "    .colab-df-container {\n",
              "      display:flex;\n",
              "      flex-wrap:wrap;\n",
              "      gap: 12px;\n",
              "    }\n",
              "\n",
              "    .colab-df-convert {\n",
              "      background-color: #E8F0FE;\n",
              "      border: none;\n",
              "      border-radius: 50%;\n",
              "      cursor: pointer;\n",
              "      display: none;\n",
              "      fill: #1967D2;\n",
              "      height: 32px;\n",
              "      padding: 0 0 0 0;\n",
              "      width: 32px;\n",
              "    }\n",
              "\n",
              "    .colab-df-convert:hover {\n",
              "      background-color: #E2EBFA;\n",
              "      box-shadow: 0px 1px 2px rgba(60, 64, 67, 0.3), 0px 1px 3px 1px rgba(60, 64, 67, 0.15);\n",
              "      fill: #174EA6;\n",
              "    }\n",
              "\n",
              "    [theme=dark] .colab-df-convert {\n",
              "      background-color: #3B4455;\n",
              "      fill: #D2E3FC;\n",
              "    }\n",
              "\n",
              "    [theme=dark] .colab-df-convert:hover {\n",
              "      background-color: #434B5C;\n",
              "      box-shadow: 0px 1px 3px 1px rgba(0, 0, 0, 0.15);\n",
              "      filter: drop-shadow(0px 1px 2px rgba(0, 0, 0, 0.3));\n",
              "      fill: #FFFFFF;\n",
              "    }\n",
              "  </style>\n",
              "\n",
              "      <script>\n",
              "        const buttonEl =\n",
              "          document.querySelector('#df-faa746f9-f5d9-4dd0-91f7-50a016d7ea0f button.colab-df-convert');\n",
              "        buttonEl.style.display =\n",
              "          google.colab.kernel.accessAllowed ? 'block' : 'none';\n",
              "\n",
              "        async function convertToInteractive(key) {\n",
              "          const element = document.querySelector('#df-faa746f9-f5d9-4dd0-91f7-50a016d7ea0f');\n",
              "          const dataTable =\n",
              "            await google.colab.kernel.invokeFunction('convertToInteractive',\n",
              "                                                     [key], {});\n",
              "          if (!dataTable) return;\n",
              "\n",
              "          const docLinkHtml = 'Like what you see? Visit the ' +\n",
              "            '<a target=\"_blank\" href=https://colab.research.google.com/notebooks/data_table.ipynb>data table notebook</a>'\n",
              "            + ' to learn more about interactive tables.';\n",
              "          element.innerHTML = '';\n",
              "          dataTable['output_type'] = 'display_data';\n",
              "          await google.colab.output.renderOutput(dataTable, element);\n",
              "          const docLink = document.createElement('div');\n",
              "          docLink.innerHTML = docLinkHtml;\n",
              "          element.appendChild(docLink);\n",
              "        }\n",
              "      </script>\n",
              "    </div>\n",
              "  </div>\n",
              "  "
            ]
          },
          "metadata": {},
          "execution_count": 41
        }
      ]
    },
    {
      "cell_type": "markdown",
      "source": [
        "Dari tabel VIF tersebut, ada beberapa fitur yang memiliki nilai VIF yang cukup tinggi, yaitu PURCHASES, ONEOFF_PURCHASES, INSTALLMENTS_PURCHASES, PURCHASES_FREQUENCY, ONEOFF_PURCHASES_FREQUENCY, dan PURCHASES_INSTALLMENTS_FREQUENCY dengan nilai VIF masing-masing di atas 10"
      ],
      "metadata": {
        "id": "k6QVcCSeTLRj"
      }
    },
    {
      "cell_type": "code",
      "source": [
        "# PCA\n",
        "pca = PCA().fit(df_scaled)"
      ],
      "metadata": {
        "id": "wkWjqCBrOv5q"
      },
      "execution_count": 42,
      "outputs": []
    },
    {
      "cell_type": "code",
      "source": [
        "# Plot cumulative explained variance ratio (EVR)\n",
        "plt.plot(np.cumsum(pca.explained_variance_ratio_))\n",
        "plt.xlabel('Number of Components')\n",
        "plt.ylabel('Cumulative Explained Variance Ratio')\n",
        "plt.show()"
      ],
      "metadata": {
        "colab": {
          "base_uri": "https://localhost:8080/",
          "height": 279
        },
        "id": "SBKJERWRT7Gs",
        "outputId": "a5beb849-1241-4d4e-e29c-ed8de95a03ee"
      },
      "execution_count": 43,
      "outputs": [
        {
          "output_type": "display_data",
          "data": {
            "text/plain": [
              "<Figure size 432x288 with 1 Axes>"
            ],
            "image/png": "[encoded data removed]"
          },
          "metadata": {
            "needs_background": "light"
          }
        }
      ]
    },
    {
      "cell_type": "markdown",
      "source": [
        "terdapat 4 titik siku elbow didalam visualisasi tersebut, yaitu dititik 3, titik 5, dan 10"
      ],
      "metadata": {
        "id": "6m5QdbBvUTIb"
      }
    },
    {
      "cell_type": "markdown",
      "source": [
        "##Using PCA for reduce dimention"
      ],
      "metadata": {
        "id": "DKDDAZrWGwWP"
      }
    },
    {
      "cell_type": "code",
      "source": [
        "# buat objek PCA\n",
        "pca = PCA(n_components=3)"
      ],
      "metadata": {
        "id": "rm3s2buUWvbb"
      },
      "execution_count": 44,
      "outputs": []
    },
    {
      "cell_type": "code",
      "source": [
        "# fit dan transform data\n",
        "pca_result = pca.fit_transform(df_scaled)\n",
        "print(\"Jumlah kolom hasil reduksi PCA:\", pca_result.shape[1])"
      ],
      "metadata": {
        "colab": {
          "base_uri": "https://localhost:8080/"
        },
        "id": "pgJPitcVWxwQ",
        "outputId": "8144613d-7373-42f0-d000-550307263266"
      },
      "execution_count": 45,
      "outputs": [
        {
          "output_type": "stream",
          "name": "stdout",
          "text": [
            "Jumlah kolom hasil reduksi PCA: 3\n"
          ]
        }
      ]
    },
    {
      "cell_type": "markdown",
      "source": [
        "#VII. Model Definition"
      ],
      "metadata": {
        "id": "lyKgyrQwuWR_"
      }
    },
    {
      "cell_type": "markdown",
      "source": [
        "- Menggunakan PCA untuk mereduksi dimensi datanya\n",
        "- algoritma yg digunakan adalah K-Means Clustering karena cepat dan efisien untuk digunakan terutama untuk data yg banyak"
      ],
      "metadata": {
        "id": "4pMWL6pGub6h"
      }
    },
    {
      "cell_type": "markdown",
      "source": [
        "#VIII. Model Training"
      ],
      "metadata": {
        "id": "ZIbBOW22vhxo"
      }
    },
    {
      "cell_type": "markdown",
      "source": [
        "mengecek elbow method dan silhoutte score untuk mengecek berapa cluster yg harus di gunakan"
      ],
      "metadata": {
        "id": "KZ_T9l_JqDY4"
      }
    },
    {
      "cell_type": "code",
      "source": [
        "# Elbow method\n",
        "inertia = []\n",
        "for k in range(1, 11):\n",
        "    kmeans = KMeans(n_clusters=k, init='k-means++', random_state=33)\n",
        "    kmeans.fit(pca_result)\n",
        "    inertia.append(kmeans.inertia_)\n",
        "plt.plot(range(1, 11), inertia)\n",
        "plt.xlabel('Number of Clusters')\n",
        "plt.ylabel('Inertia')\n",
        "plt.show()"
      ],
      "metadata": {
        "colab": {
          "base_uri": "https://localhost:8080/",
          "height": 279
        },
        "id": "Ozu2u-SEqNc5",
        "outputId": "8d55e474-fafc-415c-8532-fb8baffdbbca"
      },
      "execution_count": 46,
      "outputs": [
        {
          "output_type": "display_data",
          "data": {
            "text/plain": [
              "<Figure size 432x288 with 1 Axes>"
            ],
            "image/png": "[encoded data removed]"
          },
          "metadata": {
            "needs_background": "light"
          }
        }
      ]
    },
    {
      "cell_type": "markdown",
      "source": [
        "dari visualisasi elbow method dapat dilihat sisi sikunya berada di 2,4, dan 7"
      ],
      "metadata": {
        "id": "qLkrsjwJGK8d"
      }
    },
    {
      "cell_type": "code",
      "source": [
        "# Silhouette score\n",
        "sil_scores = []\n",
        "for k in range(2, 11):\n",
        "    kmeans = KMeans(n_clusters=k, init='k-means++', random_state=33)\n",
        "    kmeans.fit(pca_result)\n",
        "    sil_score = silhouette_score(pca_result, kmeans.labels_)\n",
        "    sil_scores.append(sil_score)\n",
        "plt.plot(range(2, 11), sil_scores)\n",
        "plt.xlabel('Number of Clusters')\n",
        "plt.ylabel('Silhouette Score')\n",
        "plt.show()"
      ],
      "metadata": {
        "colab": {
          "base_uri": "https://localhost:8080/",
          "height": 279
        },
        "id": "5tmgqjo6qRCh",
        "outputId": "88f200d2-8c20-4e8c-c969-682a71027108"
      },
      "execution_count": 47,
      "outputs": [
        {
          "output_type": "display_data",
          "data": {
            "text/plain": [
              "<Figure size 432x288 with 1 Axes>"
            ],
            "image/png": "[encoded data removed]"
          },
          "metadata": {
            "needs_background": "light"
          }
        }
      ]
    },
    {
      "cell_type": "markdown",
      "source": [
        "setelah mengecek visualisasi nilai Silhouette Score, Nilai silhouette score tertinggi terdapat pada jumlah cluster 7 dengan nilai 0.33. Hal ini menunjukkan bahwa jumlah cluster yang optimal untuk data tersebut adalah 7"
      ],
      "metadata": {
        "id": "r18atmiAqqZr"
      }
    },
    {
      "cell_type": "code",
      "source": [
        "# Melakukan KMeans clustering dengan 6 cluster\n",
        "kmeans = KMeans(n_clusters=6, random_state=15)\n",
        "kmeans.fit(pca_result)"
      ],
      "metadata": {
        "id": "LGNN81z36MMB",
        "colab": {
          "base_uri": "https://localhost:8080/",
          "height": 75
        },
        "outputId": "79deccba-a151-4d1d-c312-9d4ed235e820"
      },
      "execution_count": 48,
      "outputs": [
        {
          "output_type": "execute_result",
          "data": {
            "text/plain": [
              "KMeans(n_clusters=6, random_state=15)"
            ],
            "text/html": [
              "<style>#sk-container-id-1 {color: black;background-color: white;}#sk-container-id-1 pre{padding: 0;}#sk-container-id-1 div.sk-toggleable {background-color: white;}#sk-container-id-1 label.sk-toggleable__label {cursor: pointer;display: block;width: 100%;margin-bottom: 0;padding: 0.3em;box-sizing: border-box;text-align: center;}#sk-container-id-1 label.sk-toggleable__label-arrow:before {content: \"▸\";float: left;margin-right: 0.25em;color: #696969;}#sk-container-id-1 label.sk-toggleable__label-arrow:hover:before {color: black;}#sk-container-id-1 div.sk-estimator:hover label.sk-toggleable__label-arrow:before {color: black;}#sk-container-id-1 div.sk-toggleable__content {max-height: 0;max-width: 0;overflow: hidden;text-align: left;background-color: #f0f8ff;}#sk-container-id-1 div.sk-toggleable__content pre {margin: 0.2em;color: black;border-radius: 0.25em;background-color: #f0f8ff;}#sk-container-id-1 input.sk-toggleable__control:checked~div.sk-toggleable__content {max-height: 200px;max-width: 100%;overflow: auto;}#sk-container-id-1 input.sk-toggleable__control:checked~label.sk-toggleable__label-arrow:before {content: \"▾\";}#sk-container-id-1 div.sk-estimator input.sk-toggleable__control:checked~label.sk-toggleable__label {background-color: #d4ebff;}#sk-container-id-1 div.sk-label input.sk-toggleable__control:checked~label.sk-toggleable__label {background-color: #d4ebff;}#sk-container-id-1 input.sk-hidden--visually {border: 0;clip: rect(1px 1px 1px 1px);clip: rect(1px, 1px, 1px, 1px);height: 1px;margin: -1px;overflow: hidden;padding: 0;position: absolute;width: 1px;}#sk-container-id-1 div.sk-estimator {font-family: monospace;background-color: #f0f8ff;border: 1px dotted black;border-radius: 0.25em;box-sizing: border-box;margin-bottom: 0.5em;}#sk-container-id-1 div.sk-estimator:hover {background-color: #d4ebff;}#sk-container-id-1 div.sk-parallel-item::after {content: \"\";width: 100%;border-bottom: 1px solid gray;flex-grow: 1;}#sk-container-id-1 div.sk-label:hover label.sk-toggleable__label {background-color: #d4ebff;}#sk-container-id-1 div.sk-serial::before {content: \"\";position: absolute;border-left: 1px solid gray;box-sizing: border-box;top: 0;bottom: 0;left: 50%;z-index: 0;}#sk-container-id-1 div.sk-serial {display: flex;flex-direction: column;align-items: center;background-color: white;padding-right: 0.2em;padding-left: 0.2em;position: relative;}#sk-container-id-1 div.sk-item {position: relative;z-index: 1;}#sk-container-id-1 div.sk-parallel {display: flex;align-items: stretch;justify-content: center;background-color: white;position: relative;}#sk-container-id-1 div.sk-item::before, #sk-container-id-1 div.sk-parallel-item::before {content: \"\";position: absolute;border-left: 1px solid gray;box-sizing: border-box;top: 0;bottom: 0;left: 50%;z-index: -1;}#sk-container-id-1 div.sk-parallel-item {display: flex;flex-direction: column;z-index: 1;position: relative;background-color: white;}#sk-container-id-1 div.sk-parallel-item:first-child::after {align-self: flex-end;width: 50%;}#sk-container-id-1 div.sk-parallel-item:last-child::after {align-self: flex-start;width: 50%;}#sk-container-id-1 div.sk-parallel-item:only-child::after {width: 0;}#sk-container-id-1 div.sk-dashed-wrapped {border: 1px dashed gray;margin: 0 0.4em 0.5em 0.4em;box-sizing: border-box;padding-bottom: 0.4em;background-color: white;}#sk-container-id-1 div.sk-label label {font-family: monospace;font-weight: bold;display: inline-block;line-height: 1.2em;}#sk-container-id-1 div.sk-label-container {text-align: center;}#sk-container-id-1 div.sk-container {/* jupyter's `normalize.less` sets `[hidden] { display: none; }` but bootstrap.min.css set `[hidden] { display: none !important; }` so we also need the `!important` here to be able to override the default hidden behavior on the sphinx rendered scikit-learn.org. See: https://github.com/scikit-learn/scikit-learn/issues/21755 */display: inline-block !important;position: relative;}#sk-container-id-1 div.sk-text-repr-fallback {display: none;}</style><div id=\"sk-container-id-1\" class=\"sk-top-container\"><div class=\"sk-text-repr-fallback\"><pre>KMeans(n_clusters=6, random_state=15)</pre><b>In a Jupyter environment, please rerun this cell to show the HTML representation or trust the notebook. <br />On GitHub, the HTML representation is unable to render, please try loading this page with nbviewer.org.</b></div><div class=\"sk-container\" hidden><div class=\"sk-item\"><div class=\"sk-estimator sk-toggleable\"><input class=\"sk-toggleable__control sk-hidden--visually\" id=\"sk-estimator-id-1\" type=\"checkbox\" checked><label for=\"sk-estimator-id-1\" class=\"sk-toggleable__label sk-toggleable__label-arrow\">KMeans</label><div class=\"sk-toggleable__content\"><pre>KMeans(n_clusters=6, random_state=15)</pre></div></div></div></div></div>"
            ]
          },
          "metadata": {},
          "execution_count": 48
        }
      ]
    },
    {
      "cell_type": "code",
      "source": [
        "# Menambahkan hasil clustering ke dalam dataframe\n",
        "df['cluster'] = kmeans.labels_"
      ],
      "metadata": {
        "id": "tkNxkxctcsWs"
      },
      "execution_count": 49,
      "outputs": []
    },
    {
      "cell_type": "markdown",
      "source": [
        "#IX. Model Evaluation"
      ],
      "metadata": {
        "id": "PbKpJzjJRHLp"
      }
    },
    {
      "cell_type": "code",
      "source": [
        "# Membuat scatterplot\n",
        "plt.scatter(pca_result[:,0], pca_result[:,1], c=df['cluster'])\n",
        "plt.xlabel('PCA 1')\n",
        "plt.ylabel('PCA 2')\n",
        "plt.title('Clustering with 7 clusters')\n",
        "\n",
        "plt.show()"
      ],
      "metadata": {
        "id": "A2U--U3b6NQN",
        "colab": {
          "base_uri": "https://localhost:8080/",
          "height": 295
        },
        "outputId": "240e8758-536b-4d75-e4a6-b99bd0cd7616"
      },
      "execution_count": 50,
      "outputs": [
        {
          "output_type": "display_data",
          "data": {
            "text/plain": [
              "<Figure size 432x288 with 1 Axes>"
            ],
            "image/png": "[encoded data removed]"
          },
          "metadata": {
            "needs_background": "light"
          }
        }
      ]
    },
    {
      "cell_type": "markdown",
      "source": [
        "terlihat adadata yg saling bertumpukan, maka akan menecek nilai silhouette scorenya"
      ],
      "metadata": {
        "id": "FiPFrUi4weyS"
      }
    },
    {
      "cell_type": "code",
      "source": [
        "# Menghitung Silhouette Score\n",
        "silhouette_avg = silhouette_score(pca_result, kmeans.labels_)\n",
        "print(\"Silhouette Score:\", silhouette_avg)"
      ],
      "metadata": {
        "id": "vf2tXUAV6NTT",
        "colab": {
          "base_uri": "https://localhost:8080/"
        },
        "outputId": "851f1a26-447f-4721-ad7c-d89133354887"
      },
      "execution_count": 51,
      "outputs": [
        {
          "output_type": "stream",
          "name": "stdout",
          "text": [
            "Silhouette Score: 0.393606147927086\n"
          ]
        }
      ]
    },
    {
      "cell_type": "markdown",
      "source": [
        "dari nilai silhouette score yg di peroleh, tergolong baik, tapi tidak optimal"
      ],
      "metadata": {
        "id": "GH8LGrggKwm5"
      }
    },
    {
      "cell_type": "markdown",
      "source": [
        "menggunakan komponen pca 3, cluster 4\n",
        "Silhouette Score: 0.38210490424408894\n",
        "\n",
        "menggunakan komponen pca 3, cluster 2\n",
        "Silhouette Score: 0.36876516061343523\n",
        "\n",
        "menggunakan komponen pca 3, cluster 6\n",
        "Silhouette Score: 0.39360614878292455\n",
        "\n",
        "menggunakan komponen pca 5, cluster 7\n",
        "Silhouette Score: 0.3312603762334041\n",
        "\n",
        "menggunakan komponen pca 5, cluster 5\n",
        "Silhouette Score: 0.31645499239186453\n",
        "\n",
        "menggunakan komponen pca 5, cluster 4\n",
        "Silhouette Score: 0.30007271969705845\n",
        "\n",
        "menggunakan komponen pca 5, cluster 3\n",
        "Silhouette Score: 0.28349334467840875\n",
        "\n",
        "menggunakan komponen pca 5, cluster 2\n",
        "Silhouette Score: 0.3096397115427658\n",
        "\n",
        "menggunakan komponen pca 10, cluster 8\n",
        "Silhouette Score: 0.2542446925249016\n",
        "\n",
        "menggunakan komponen pca 10, cluster 2\n",
        "Silhouette Score: 0.2685808615793832\n",
        "\n",
        "menggunakan komponen pca 10, cluster 3\n",
        "Silhouette Score: 0.2368972310253215\n",
        "\n",
        "menggunakan komponen pca 10, cluster 4\n",
        "Silhouette Score: 0.2437922267970933\n",
        "\n",
        "menggunakan komponen pca 10, cluster 5\n",
        "Silhouette Score: 0.2508257161141971\n",
        "\n",
        "menggunakan komponen pca 10, cluster 7\n",
        "Silhouette Score: 0.2591107107764209"
      ],
      "metadata": {
        "id": "BsC2qUqWTgFl"
      }
    },
    {
      "cell_type": "markdown",
      "source": [
        "setelah membandingkan beberapa komponen dan cluster, maka yg akan digunakan adalah komponen PCA 3, cluster 6"
      ],
      "metadata": {
        "id": "d60Qd4bGZcFY"
      }
    },
    {
      "cell_type": "markdown",
      "source": [
        "##Using PCA with n_components=2"
      ],
      "metadata": {
        "id": "a8bWhad5w_mC"
      }
    },
    {
      "cell_type": "code",
      "source": [
        "# Menggunakan PCA dengan 2 komponen\n",
        "pca_2 = PCA(n_components=2)\n",
        "pca_result_2 = pca_2.fit_transform(pca_result)"
      ],
      "metadata": {
        "id": "j8wxZRGY3Qnh"
      },
      "execution_count": 52,
      "outputs": []
    },
    {
      "cell_type": "code",
      "source": [
        "# Visualisasi cluster pada 2 dimensi\n",
        "sns.scatterplot(x=pca_result_2[:, 0], y=pca_result_2[:, 1], hue=df['cluster'], palette='Set2')\n",
        "plt.title('Data setelah clustering dengan KMeans')\n",
        "plt.xlabel('PCA Component 1')\n",
        "plt.ylabel('PCA Component 2')\n",
        "plt.show()"
      ],
      "metadata": {
        "id": "zpCoivtfxkV_",
        "colab": {
          "base_uri": "https://localhost:8080/",
          "height": 295
        },
        "outputId": "66dcd3e2-6c9d-496e-a34c-6690ae44d9d2"
      },
      "execution_count": 53,
      "outputs": [
        {
          "output_type": "display_data",
          "data": {
            "text/plain": [
              "<Figure size 432x288 with 1 Axes>"
            ],
            "image/png": "[encoded data removed]"
          },
          "metadata": {
            "needs_background": "light"
          }
        }
      ]
    },
    {
      "cell_type": "markdown",
      "source": [
        "dari visualisasi mengunakan 5 komponen ataupun 2 komponen tidak terlihat perbedaanya"
      ],
      "metadata": {
        "id": "-_Ze4OPWGafQ"
      }
    },
    {
      "cell_type": "code",
      "source": [
        "# Menghitung Silhouette Score\n",
        "silhouette_avg = silhouette_score(pca_result_2, kmeans.labels_)\n",
        "print(\"Silhouette Score:\", silhouette_avg)"
      ],
      "metadata": {
        "colab": {
          "base_uri": "https://localhost:8080/"
        },
        "id": "iKES26u01eg9",
        "outputId": "46389b0e-8124-4b39-b741-b141bdf1c217"
      },
      "execution_count": 54,
      "outputs": [
        {
          "output_type": "stream",
          "name": "stdout",
          "text": [
            "Silhouette Score: 0.3158495200579976\n"
          ]
        }
      ]
    },
    {
      "cell_type": "markdown",
      "source": [
        "dari nilai silhouette score yg di peroleh, tergolong baik, tapi tidak optimal"
      ],
      "metadata": {
        "id": "a-AivAO6LDsU"
      }
    },
    {
      "cell_type": "markdown",
      "source": [
        "##EDA final cluster"
      ],
      "metadata": {
        "id": "gc_16L2kBQxz"
      }
    },
    {
      "cell_type": "code",
      "source": [
        "# Menampilkan hasil clustering\n",
        "print(df.groupby('cluster').mean())"
      ],
      "metadata": {
        "id": "-Csn8CrI_cr1",
        "colab": {
          "base_uri": "https://localhost:8080/"
        },
        "outputId": "2eb49aab-d5dd-4348-ec7e-935eb04f46ab"
      },
      "execution_count": 55,
      "outputs": [
        {
          "output_type": "stream",
          "name": "stdout",
          "text": [
            "             BALANCE  BALANCE_FREQUENCY    PURCHASES  ONEOFF_PURCHASES  \\\n",
            "cluster                                                                  \n",
            "0         675.497432           0.925316   751.095420         88.625512   \n",
            "1        1137.202533           0.886251  1490.486165       1312.240843   \n",
            "2        3034.526863           0.956105   108.808235         83.725638   \n",
            "3        2021.211756           0.986970  4453.182965       2840.865706   \n",
            "4         697.354954           0.721820   167.930506        102.065389   \n",
            "5        4098.853576           0.989697  1845.053091       1064.484036   \n",
            "\n",
            "         INSTALLMENTS_PURCHASES  CASH_ADVANCE  PURCHASES_FREQUENCY  \\\n",
            "cluster                                                              \n",
            "0                    663.605248     94.344995             0.882989   \n",
            "1                    178.532329    170.298059             0.606667   \n",
            "2                     25.156903   2966.384902             0.096920   \n",
            "3                   1612.317260    111.270032             0.960751   \n",
            "4                     66.116023    331.536110             0.178244   \n",
            "5                    780.569055   3679.523802             0.823131   \n",
            "\n",
            "         ONEOFF_PURCHASES_FREQUENCY  PURCHASES_INSTALLMENTS_FREQUENCY  \\\n",
            "cluster                                                                 \n",
            "0                          0.067639                          0.834847   \n",
            "1                          0.533498                          0.126852   \n",
            "2                          0.054028                          0.040299   \n",
            "3                          0.698620                          0.796955   \n",
            "4                          0.064124                          0.107342   \n",
            "5                          0.359948                          0.646944   \n",
            "\n",
            "         CASH_ADVANCE_FREQUENCY  CASH_ADVANCE_TRX  PURCHASES_TRX  \\\n",
            "cluster                                                            \n",
            "0                      0.021331          0.370821      17.248227   \n",
            "1                      0.036334          0.586345      14.431727   \n",
            "2                      0.387892          9.845727       1.520533   \n",
            "3                      0.025855          0.435583      57.515337   \n",
            "4                      0.064293          1.006038       2.588679   \n",
            "5                      0.414100         11.741818      28.032727   \n",
            "\n",
            "         CREDIT_LIMIT     PAYMENTS  MINIMUM_PAYMENTS  PRC_FULL_PAYMENT  \\\n",
            "cluster                                                                  \n",
            "0         3217.488461   919.349220        607.967761          0.256176   \n",
            "1         5104.457831  1692.378275        535.165538          0.190522   \n",
            "2         5126.248613  2131.574308       1086.124115          0.034377   \n",
            "3         7561.312512  3925.464846        785.776416          0.293732   \n",
            "4         3130.161128   796.607831        444.759253          0.127684   \n",
            "5         7010.909091  3923.606280       1765.358485          0.043561   \n",
            "\n",
            "            TENURE  \n",
            "cluster             \n",
            "0        11.535968  \n",
            "1        11.554217  \n",
            "2        11.325194  \n",
            "3        11.914110  \n",
            "4        11.434717  \n",
            "5        11.690909  \n"
          ]
        }
      ]
    },
    {
      "cell_type": "markdown",
      "source": [
        "beberapa kesimpulan dan saran untuk setiap clusternya :\n",
        "\n",
        "1. Cluster 0: Pelanggan dalam cluster ini sering melakukan pembelian secara angsuran. Untuk meningkatkan aktivitas pembelian, perusahaan bisa memberikan reward berupa potongan bunga atau keringanan biaya bunga untuk pembelian secara angsuran.\n",
        "\n",
        "2. Cluster 1: Pelanggan dalam cluster ini memiliki pembelian yang tinggi dalam pembelian satu kali (oneoff). Perusahaan bisa memberikan reward berupa diskon atau kupon belanja untuk pembelian satu kali agar dapat mendorong pelanggan untuk melakukan lebih banyak pembelian.\n",
        "\n",
        "3. Cluster 2: Pelanggan dalam cluster ini sering melakukan penarikan tunai. Perusahaan bisa memberikan reward berupa keringanan biaya atau potongan bunga untuk transaksi pembelian agar dapat mendorong pelanggan untuk lebih sering melakukan pembelian dengan kartu kredit daripada melakukan penarikan tunai.\n",
        "\n",
        "4. Cluster 3: Pelanggan dalam cluster ini memiliki pembelian dan limit kredit yang tinggi. Untuk mempertahankan kepercayaan pelanggan, perusahaan bisa memberikan reward berupa perlindungan asuransi atau keringanan biaya kartu kredit.\n",
        "\n",
        "5. Cluster 4: Pelanggan dalam cluster ini sering melakukan penarikan tunai dan pembelian dengan frekuensi rendah. Perusahaan bisa memberikan reward berupa keringanan biaya atau diskon belanja untuk pembelian dengan frekuensi tertentu agar dapat mendorong pelanggan untuk lebih sering menggunakan kartu kredit.\n",
        "\n",
        "6. Cluster 5: Pelanggan dalam cluster ini memiliki saldo, pembelian, dan limit kredit yang sangat tinggi, namun jarang melakukan pembayaran penuh dan pembelian secara angsuran. Perusahaan bisa memberikan reward berupa poin reward atau kupon belanja untuk pembayaran penuh atau pembelian secara angsuran untuk mendorong pelanggan agar lebih aktif menggunakan kartu kredit secara optimal."
      ],
      "metadata": {
        "id": "1ssVOh5DvEkk"
      }
    },
    {
      "cell_type": "markdown",
      "source": [
        "##Model Saving"
      ],
      "metadata": {
        "id": "VHwefhQApUYR"
      }
    },
    {
      "cell_type": "code",
      "source": [
        "# Save the Files\n",
        "\n",
        "with open('model_kmeans.pkl', 'wb') as file_1:\n",
        "  pickle.dump(kmeans, file_1)\n",
        "\n",
        "with open('model_scaler.pkl', 'wb') as file_2:\n",
        "  pickle.dump(scaler, file_2)\n",
        "\n",
        "with open('model_pca.pkl', 'wb') as file_2:\n",
        "  pickle.dump(pca, file_2)"
      ],
      "metadata": {
        "id": "EwkIDqyU-OI4"
      },
      "execution_count": 56,
      "outputs": []
    }
  ]
}